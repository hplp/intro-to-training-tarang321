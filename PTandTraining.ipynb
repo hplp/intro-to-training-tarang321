{
  "nbformat": 4,
  "nbformat_minor": 0,
  "metadata": {
    "colab": {
      "provenance": [],
      "gpuType": "T4"
    },
    "kernelspec": {
      "name": "python3",
      "display_name": "Python 3"
    },
    "language_info": {
      "name": "python"
    },
    "accelerator": "GPU"
  },
  "cells": [
    {
      "cell_type": "markdown",
      "source": [
        "## Start by importing necessary packages\n",
        "You will begin by importing necessary libraries for this notebook. Run the cell below to do so."
      ],
      "metadata": {
        "id": "qFR0_os7r97e"
      }
    },
    {
      "cell_type": "markdown",
      "source": [
        "# PyTorch and Intro to Training"
      ],
      "metadata": {
        "id": "dcUHnV4tr3T-"
      }
    },
    {
      "cell_type": "code",
      "source": [
        "!pip install thop\n",
        "import math\n",
        "import numpy as np\n",
        "import torch\n",
        "import torch.nn as nn\n",
        "import torch.optim as optim\n",
        "from torchvision import datasets, transforms\n",
        "import thop\n",
        "import matplotlib.pyplot as plt\n",
        "from tqdm import tqdm\n",
        "import time\n"
      ],
      "metadata": {
        "id": "o-K6uCK8sAtN",
        "colab": {
          "base_uri": "https://localhost:8080/",
          "height": 0
        },
        "outputId": "b1ec4180-b70a-47c7-af25-8449af5567f0"
      },
      "execution_count": 1,
      "outputs": [
        {
          "output_type": "stream",
          "name": "stdout",
          "text": [
            "Collecting thop\n",
            "  Downloading thop-0.1.1.post2209072238-py3-none-any.whl.metadata (2.7 kB)\n",
            "Requirement already satisfied: torch in /usr/local/lib/python3.10/dist-packages (from thop) (2.5.1+cu121)\n",
            "Requirement already satisfied: filelock in /usr/local/lib/python3.10/dist-packages (from torch->thop) (3.16.1)\n",
            "Requirement already satisfied: typing-extensions>=4.8.0 in /usr/local/lib/python3.10/dist-packages (from torch->thop) (4.12.2)\n",
            "Requirement already satisfied: networkx in /usr/local/lib/python3.10/dist-packages (from torch->thop) (3.4.2)\n",
            "Requirement already satisfied: jinja2 in /usr/local/lib/python3.10/dist-packages (from torch->thop) (3.1.5)\n",
            "Requirement already satisfied: fsspec in /usr/local/lib/python3.10/dist-packages (from torch->thop) (2024.10.0)\n",
            "Requirement already satisfied: sympy==1.13.1 in /usr/local/lib/python3.10/dist-packages (from torch->thop) (1.13.1)\n",
            "Requirement already satisfied: mpmath<1.4,>=1.1.0 in /usr/local/lib/python3.10/dist-packages (from sympy==1.13.1->torch->thop) (1.3.0)\n",
            "Requirement already satisfied: MarkupSafe>=2.0 in /usr/local/lib/python3.10/dist-packages (from jinja2->torch->thop) (3.0.2)\n",
            "Downloading thop-0.1.1.post2209072238-py3-none-any.whl (15 kB)\n",
            "Installing collected packages: thop\n",
            "Successfully installed thop-0.1.1.post2209072238\n"
          ]
        }
      ]
    },
    {
      "cell_type": "markdown",
      "source": [
        "## Checking the torch version and CUDA access\n",
        "Let's start off by checking the current torch version, and whether you have CUDA availablity."
      ],
      "metadata": {
        "id": "zDPegMqisFcl"
      }
    },
    {
      "cell_type": "code",
      "source": [
        "print(\"torch is using version:\", torch.__version__, \"with CUDA=\", torch.cuda.is_available())"
      ],
      "metadata": {
        "id": "tdfzsLrPsLyl",
        "colab": {
          "base_uri": "https://localhost:8080/",
          "height": 0
        },
        "outputId": "90b13f9d-f4bf-4f74-8b96-e6bcdc8878af"
      },
      "execution_count": 2,
      "outputs": [
        {
          "output_type": "stream",
          "name": "stdout",
          "text": [
            "torch is using version: 2.5.1+cu121 with CUDA= True\n"
          ]
        }
      ]
    },
    {
      "cell_type": "markdown",
      "source": [
        "By default, you will see CUDA = False, meaning that the Colab session does not have access to a GPU. To remedy this, click the Runtime menu on top and select \"Change Runtime Type\", then select \"T4 GPU\".\n",
        "\n",
        "Re-run the import cell above, and the CUDA version / check. It should show now CUDA = True\n",
        "\n",
        "Sometimes in Colab you get a message that your Session has crashed, if that happens you need to go to the Runtime menu on top and select \"Restart session\".\n",
        "\n",
        "You won't be using the GPU just yet, but this prepares the instance for when you will.\n",
        "\n",
        "**Please note that the GPU is a scarce resource which may not be available at all time. Additionally, there are also usage limits that you may run into (although not likely for this assignment). When that happens you need to try again later/next day/different time of the day. Another reason to start the assignment early!**"
      ],
      "metadata": {
        "id": "kWQIH1ybssV0"
      }
    },
    {
      "cell_type": "markdown",
      "source": [
        "## A Brief Introduction to PyTorch\n",
        "\n",
        "PyTorch, or torch, is a machine learning framework developed my Facebook AI Research, which competes with TensorFlow, JAX, Caffe and others.\n",
        "\n",
        "Roughly speaking, these frameworks can be split into dynamic and static defintion frameworks.\n",
        "\n",
        "**Static Network Definition:** The architecture and computation flow are defined simultaneously. The order and manner in which data flows through the layers are fixed upon definition. These frameworks also tend to declare parameter shapes implicitly via the compute graph. This is typical of TensorFlow and JAX.\n",
        "\n",
        "**Dynamic Network Definition:** The architecture (layers/modules) is defined independently of the computation flow, often during the object's initialization. This allows for dynamic computation graphs where the flow of data can change during runtime based on conditions. Since the network exists independent of the compute graph, the parameter shapes must be declared explitly. PyTorch follows this approach.\n",
        "\n",
        "All ML frameworks support automatic differentiation, which is necessary to train a model (i.e. perform back propagation).\n",
        "\n",
        "Let's consider a typical pytorch module. Such modules will inherit from the torch.nn.Module class, which provides many built in functions such as a wrapper for `__call__`, operations to move the module between devices (e.g. `cuda()`, `cpu()`), data-type conversion (e.g. `half()`, `float()`), and parameter and child management (e.g. `state_dict()`, `parameters()`)."
      ],
      "metadata": {
        "id": "ekG8rSD4tbpS"
      }
    },
    {
      "cell_type": "code",
      "source": [
        "# inherit from torch.nn.Module\n",
        "class MyModule(nn.Module):\n",
        "  # constructor called upon creation\n",
        "  def __init__(self):\n",
        "    # the module has to initialize the parent first, which is what sets up the wrapper behavior\n",
        "    super().__init__()\n",
        "\n",
        "    # we can add sub-modules and parameters by assigning them to self\n",
        "    self.my_param = nn.Parameter(torch.zeros(4,8)) # this is how you define a raw parameter of shape 4x5\n",
        "    self.my_sub_module = nn.Linear(8,12)       # this is how you define a linear layer (tensorflow calls them Dense) of shape 8x12\n",
        "\n",
        "    # we can also add lists of modules, for example, the sequential layer\n",
        "    self.net = nn.Sequential(  # this layer type takes in a collection of modules rather than a list\n",
        "        nn.Linear(4,4),\n",
        "        nn.Linear(4,8),\n",
        "        nn.Linear(8,12)\n",
        "    )\n",
        "\n",
        "    # the above when calling self.net(x), will execute each module in the order they appear in a list\n",
        "    # it would be equivelent to x = self.net[2](self.net[1](self.net[0](x)))\n",
        "\n",
        "    # you can also create a list that doesn't execute\n",
        "    self.net_list = nn.ModuleList([\n",
        "        nn.Linear(7,7),\n",
        "        nn.Linear(7,9),\n",
        "        nn.Linear(9,14)\n",
        "    ])\n",
        "\n",
        "    # sometimes you will also see constant variables added to the module post init\n",
        "    foo = torch.Tensor([4])\n",
        "    self.register_buffer('foo', foo) # buffers allow .to(device, type) to apply\n",
        "\n",
        "  # let's define a forward function, which gets executed when calling the module, and defines the forward compute graph\n",
        "  def forward(self, x):\n",
        "\n",
        "    # if x is of shape Bx4\n",
        "    h1 =  x @ self.my_param # tensor-tensor multiplication uses the @ symbol\n",
        "    # then h1 is now shape Bx8, because my_param is 4x8... 2x4 * 4x8 = 2x8\n",
        "\n",
        "    h1 = self.my_sub_module(h1) # you execute a sub-module by calling it\n",
        "    # now, h1 is of shape Bx12, because my_sub_module was a 8x12 matrix\n",
        "\n",
        "    h2 = self.net(x)\n",
        "    # similarly, h2 is of shape Bx12, because that's the output of the sequence\n",
        "    # Bx4 -(4x4)-> Bx4 -(4x8)-> Bx8 -(8x12)-> Bx12\n",
        "\n",
        "    # since h1 and h2 are the same shape, they can be added together element-wise\n",
        "    return h1 + h2\n"
      ],
      "metadata": {
        "id": "lFxVVeLTsX7e"
      },
      "execution_count": 3,
      "outputs": []
    },
    {
      "cell_type": "markdown",
      "source": [
        "Then you can instantiate the module and perform a forward pass by calling it."
      ],
      "metadata": {
        "id": "gGVD-Rfy3YXF"
      }
    },
    {
      "cell_type": "code",
      "source": [
        "# create the module\n",
        "module = MyModule()\n",
        "\n",
        "# you can print the module to get a high-level summary of it\n",
        "print(\"=== printing the module ===\")\n",
        "print(module)\n",
        "print()\n",
        "# notice that the sub-module name is in parenthesis, and so are the list indicies\n",
        "\n",
        "# let's view the shape of one of the weight tensors\n",
        "print(\"my_sub_module weight tensor shape=\", module.my_sub_module.weight.shape)\n",
        "# the above works because nn.Linear has a member called .weight and .bias\n",
        "# to view the shape of my_param, you would use module.my_param\n",
        "# and to view the shape of the 2nd elment in net_list, you would use module.net_list[1].weight\n",
        "\n",
        "# you can iterate through all of the parameters via the state dict\n",
        "print()\n",
        "print(\"=== Listing parameters from the state_dict ===\")\n",
        "for key,value in module.state_dict().items():\n",
        "  print(f\"{key}: {value.shape}\")\n"
      ],
      "metadata": {
        "id": "K5SduF4H194T",
        "colab": {
          "base_uri": "https://localhost:8080/",
          "height": 0
        },
        "outputId": "f301c027-fcb9-4b83-a286-b940dd6bf2da"
      },
      "execution_count": 4,
      "outputs": [
        {
          "output_type": "stream",
          "name": "stdout",
          "text": [
            "=== printing the module ===\n",
            "MyModule(\n",
            "  (my_sub_module): Linear(in_features=8, out_features=12, bias=True)\n",
            "  (net): Sequential(\n",
            "    (0): Linear(in_features=4, out_features=4, bias=True)\n",
            "    (1): Linear(in_features=4, out_features=8, bias=True)\n",
            "    (2): Linear(in_features=8, out_features=12, bias=True)\n",
            "  )\n",
            "  (net_list): ModuleList(\n",
            "    (0): Linear(in_features=7, out_features=7, bias=True)\n",
            "    (1): Linear(in_features=7, out_features=9, bias=True)\n",
            "    (2): Linear(in_features=9, out_features=14, bias=True)\n",
            "  )\n",
            ")\n",
            "\n",
            "my_sub_module weight tensor shape= torch.Size([12, 8])\n",
            "\n",
            "=== Listing parameters from the state_dict ===\n",
            "my_param: torch.Size([4, 8])\n",
            "foo: torch.Size([1])\n",
            "my_sub_module.weight: torch.Size([12, 8])\n",
            "my_sub_module.bias: torch.Size([12])\n",
            "net.0.weight: torch.Size([4, 4])\n",
            "net.0.bias: torch.Size([4])\n",
            "net.1.weight: torch.Size([8, 4])\n",
            "net.1.bias: torch.Size([8])\n",
            "net.2.weight: torch.Size([12, 8])\n",
            "net.2.bias: torch.Size([12])\n",
            "net_list.0.weight: torch.Size([7, 7])\n",
            "net_list.0.bias: torch.Size([7])\n",
            "net_list.1.weight: torch.Size([9, 7])\n",
            "net_list.1.bias: torch.Size([9])\n",
            "net_list.2.weight: torch.Size([14, 9])\n",
            "net_list.2.bias: torch.Size([14])\n"
          ]
        }
      ]
    },
    {
      "cell_type": "code",
      "source": [
        "# you can perform a forward pass by first creating a tensor to send through\n",
        "x = torch.zeros(2,4)\n",
        "# then you call the module (this invokes MyModule.forward() )\n",
        "y = module(x)\n",
        "\n",
        "# then you can print the result and shape\n",
        "print(y, y.shape)"
      ],
      "metadata": {
        "id": "RZquyefY8r7W",
        "colab": {
          "base_uri": "https://localhost:8080/",
          "height": 0
        },
        "outputId": "b423aeaf-15f9-4fb5-c3c5-1b32909fde9b"
      },
      "execution_count": 5,
      "outputs": [
        {
          "output_type": "stream",
          "name": "stdout",
          "text": [
            "tensor([[ 0.1414, -0.2157, -0.1545, -0.6084,  0.0184, -0.4017,  0.0053, -0.4549,\n",
            "         -0.0537,  0.0711, -0.0481,  0.1077],\n",
            "        [ 0.1414, -0.2157, -0.1545, -0.6084,  0.0184, -0.4017,  0.0053, -0.4549,\n",
            "         -0.0537,  0.0711, -0.0481,  0.1077]], grad_fn=<AddBackward0>) torch.Size([2, 12])\n"
          ]
        }
      ]
    },
    {
      "cell_type": "markdown",
      "source": [
        "Please check the cell below to notice the following:\n",
        "\n",
        "1.   `x` above was created with the shape 2x4, and in the forward pass, it gets manipulated into a 2x12 tensor. This last dimension is explicit, while the first is called the batch dimmension, and only exists on data (a.k.a. activations). The output shape can be seen in the print statement from y.shape\n",
        "2.   You can view the shape of a tensor by using `.shape`, this is a very helpful trick for debugging tensor shape errors\n",
        "3.   In the output, there's a `grad_fn` component, this is the hook created by the forward trace to be used in back-propagation via automatic differentiation. The function name is `AddBackward`, because the last operation performed was `h1+h2`.\n",
        "\n",
        "We might not always want to trace the compute graph though, such as during inference. In such cases, you can use the `torch.no_grad()` context manager.\n"
      ],
      "metadata": {
        "id": "Iifk09KA3m7V"
      }
    },
    {
      "cell_type": "code",
      "source": [
        "# you can perform a forward pass by first creating a tensor to send through\n",
        "x = torch.zeros(2,4)\n",
        "# then you call the module (this invokes MyModule.forward() )\n",
        "with torch.no_grad():\n",
        "  y = module(x)\n",
        "\n",
        "# then you can print the result and shape\n",
        "print(y, y.shape)\n",
        "# notice how the grad_fn is no longer part of the output tensor, that's because not_grad() disables the graph generation"
      ],
      "metadata": {
        "id": "2AkENjSg-NDe",
        "colab": {
          "base_uri": "https://localhost:8080/",
          "height": 0
        },
        "outputId": "ba7bb378-259d-4203-f94e-4ae6c04241cf"
      },
      "execution_count": 6,
      "outputs": [
        {
          "output_type": "stream",
          "name": "stdout",
          "text": [
            "tensor([[ 0.1414, -0.2157, -0.1545, -0.6084,  0.0184, -0.4017,  0.0053, -0.4549,\n",
            "         -0.0537,  0.0711, -0.0481,  0.1077],\n",
            "        [ 0.1414, -0.2157, -0.1545, -0.6084,  0.0184, -0.4017,  0.0053, -0.4549,\n",
            "         -0.0537,  0.0711, -0.0481,  0.1077]]) torch.Size([2, 12])\n"
          ]
        }
      ]
    },
    {
      "cell_type": "markdown",
      "source": [
        "Aside from passing a tensor through a model with the `no_grad()` context, you can also detach a tensor from the compute graph by calling `.detach()`. This will effectively make a copy of the original tensor, which allows it to be converted to numpy and visualized with matplotlib.\n",
        "\n",
        "**Note:** Tensors with a `grad_fn` property cannot be plotted and must first be detached."
      ],
      "metadata": {
        "id": "3kHh2aBOqxkI"
      }
    },
    {
      "cell_type": "markdown",
      "source": [
        "## Multi-Layer-Perceptron (MLP) Prediction of MNIST\n",
        "\n",
        "With some basics out of the way, let's create a MLP for training MNIST.\n",
        "You can start by defining a simple torch model."
      ],
      "metadata": {
        "id": "t08BDXVur1z2"
      }
    },
    {
      "cell_type": "code",
      "source": [
        "# Define the MLP model\n",
        "class MLP(nn.Module):\n",
        "    # define the constructor for the network\n",
        "    def __init__(self):\n",
        "        super().__init__()\n",
        "        # the input projection layer - projects into d=128\n",
        "        self.fc1 = nn.Linear(28*28, 128)\n",
        "        # the first hidden layer - compresses into d=64\n",
        "        self.fc2 = nn.Linear(128, 64)\n",
        "        # the final output layer - splits into 10 classes (digits 0-9)\n",
        "        self.fc3 = nn.Linear(64, 10)\n",
        "\n",
        "    # define the forward pass compute graph\n",
        "    def forward(self, x):\n",
        "        # x is of shape BxHxW\n",
        "\n",
        "        # we first need to unroll the 2D image using view\n",
        "        # we set the first dim to be -1 meanining \"everything else\", the reason being that x is of shape BxHxW, where B is the batch dim\n",
        "        # we want to maintain different tensors for each training sample in the batch, which means the output should be of shape BxF where F is the feature dim\n",
        "        x = x.view(-1, 28*28)\n",
        "        # x is of shape Bx784\n",
        "\n",
        "        # project-in and apply a non-linearity (ReLU activation function)\n",
        "        x = torch.relu(self.fc1(x))\n",
        "        # x is of shape Bx128\n",
        "\n",
        "        # middle-layer and apply a non-linearity (ReLU activation function)\n",
        "        x = torch.relu(self.fc2(x))\n",
        "        # x is of shape Bx64\n",
        "\n",
        "        # project out into the 10 classes\n",
        "        x = self.fc3(x)\n",
        "        # x is of shape Bx10\n",
        "        return x"
      ],
      "metadata": {
        "id": "Ud7V-wA0rPIp"
      },
      "execution_count": 7,
      "outputs": []
    },
    {
      "cell_type": "markdown",
      "source": [
        "Before you can begin training, you have to do a little boiler-plate to load the dataset. From the previous assignment, you saw how a hosted dataset can be loaded with TensorFlow. With pytorch it's a little more complicated, as you need to manually condition the input data."
      ],
      "metadata": {
        "id": "CyyFDqlbusSO"
      }
    },
    {
      "cell_type": "code",
      "source": [
        "# define a transformation for the input images. This uses torchvision.transforms, and .Compose will act similarly to nn.Sequential\n",
        "transform = transforms.Compose([\n",
        "    transforms.ToTensor(), # first convert to a torch tensor\n",
        "    transforms.Normalize((0.1307,), (0.3081,)) # then normalize the input\n",
        "])\n",
        "\n",
        "# let's download the train and test datasets, applying the above transform - this will get saved locally into ./data, which is in the Colab instance\n",
        "train_dataset = datasets.MNIST('./data', train=True, download=True, transform=transform)\n",
        "test_dataset = datasets.MNIST('./data', train=False, transform=transform)\n",
        "\n",
        "# we need to set the mini-batch (commonly referred to as \"batch\"), for now we can use 64\n",
        "batch_size = 64\n",
        "\n",
        "# then we need to create a dataloader for the train dataset, and we will also create one for the test dataset to evaluate performance\n",
        "# additionally, we will set the batch size in the dataloader\n",
        "train_loader = torch.utils.data.DataLoader(train_dataset, batch_size=batch_size, shuffle=True)\n",
        "test_loader = torch.utils.data.DataLoader(test_dataset, batch_size=batch_size, shuffle=False)\n",
        "\n",
        "# the torch dataloaders allow us to access the __getitem__ method, which returns a tuple of (data, label)\n",
        "# additionally, the dataloader will pre-colate the training samples into the given batch_size\n"
      ],
      "metadata": {
        "id": "nd_dVCuUuqY2",
        "colab": {
          "base_uri": "https://localhost:8080/",
          "height": 0
        },
        "outputId": "29772f85-6780-4b93-8275-fa0263050758"
      },
      "execution_count": 8,
      "outputs": [
        {
          "output_type": "stream",
          "name": "stdout",
          "text": [
            "Downloading http://yann.lecun.com/exdb/mnist/train-images-idx3-ubyte.gz\n",
            "Failed to download (trying next):\n",
            "HTTP Error 403: Forbidden\n",
            "\n",
            "Downloading https://ossci-datasets.s3.amazonaws.com/mnist/train-images-idx3-ubyte.gz\n",
            "Downloading https://ossci-datasets.s3.amazonaws.com/mnist/train-images-idx3-ubyte.gz to ./data/MNIST/raw/train-images-idx3-ubyte.gz\n"
          ]
        },
        {
          "output_type": "stream",
          "name": "stderr",
          "text": [
            "100%|██████████| 9.91M/9.91M [00:02<00:00, 4.51MB/s]\n"
          ]
        },
        {
          "output_type": "stream",
          "name": "stdout",
          "text": [
            "Extracting ./data/MNIST/raw/train-images-idx3-ubyte.gz to ./data/MNIST/raw\n",
            "\n",
            "Downloading http://yann.lecun.com/exdb/mnist/train-labels-idx1-ubyte.gz\n",
            "Failed to download (trying next):\n",
            "HTTP Error 403: Forbidden\n",
            "\n",
            "Downloading https://ossci-datasets.s3.amazonaws.com/mnist/train-labels-idx1-ubyte.gz\n",
            "Downloading https://ossci-datasets.s3.amazonaws.com/mnist/train-labels-idx1-ubyte.gz to ./data/MNIST/raw/train-labels-idx1-ubyte.gz\n"
          ]
        },
        {
          "output_type": "stream",
          "name": "stderr",
          "text": [
            "100%|██████████| 28.9k/28.9k [00:00<00:00, 132kB/s]\n"
          ]
        },
        {
          "output_type": "stream",
          "name": "stdout",
          "text": [
            "Extracting ./data/MNIST/raw/train-labels-idx1-ubyte.gz to ./data/MNIST/raw\n",
            "\n",
            "Downloading http://yann.lecun.com/exdb/mnist/t10k-images-idx3-ubyte.gz\n",
            "Failed to download (trying next):\n",
            "HTTP Error 403: Forbidden\n",
            "\n",
            "Downloading https://ossci-datasets.s3.amazonaws.com/mnist/t10k-images-idx3-ubyte.gz\n",
            "Downloading https://ossci-datasets.s3.amazonaws.com/mnist/t10k-images-idx3-ubyte.gz to ./data/MNIST/raw/t10k-images-idx3-ubyte.gz\n"
          ]
        },
        {
          "output_type": "stream",
          "name": "stderr",
          "text": [
            "100%|██████████| 1.65M/1.65M [00:01<00:00, 1.26MB/s]\n"
          ]
        },
        {
          "output_type": "stream",
          "name": "stdout",
          "text": [
            "Extracting ./data/MNIST/raw/t10k-images-idx3-ubyte.gz to ./data/MNIST/raw\n",
            "\n",
            "Downloading http://yann.lecun.com/exdb/mnist/t10k-labels-idx1-ubyte.gz\n",
            "Failed to download (trying next):\n",
            "HTTP Error 403: Forbidden\n",
            "\n",
            "Downloading https://ossci-datasets.s3.amazonaws.com/mnist/t10k-labels-idx1-ubyte.gz\n",
            "Downloading https://ossci-datasets.s3.amazonaws.com/mnist/t10k-labels-idx1-ubyte.gz to ./data/MNIST/raw/t10k-labels-idx1-ubyte.gz\n"
          ]
        },
        {
          "output_type": "stream",
          "name": "stderr",
          "text": [
            "100%|██████████| 4.54k/4.54k [00:00<00:00, 3.98MB/s]"
          ]
        },
        {
          "output_type": "stream",
          "name": "stdout",
          "text": [
            "Extracting ./data/MNIST/raw/t10k-labels-idx1-ubyte.gz to ./data/MNIST/raw\n",
            "\n"
          ]
        },
        {
          "output_type": "stream",
          "name": "stderr",
          "text": [
            "\n"
          ]
        }
      ]
    },
    {
      "cell_type": "markdown",
      "source": [
        "Inspect the first element of the test_loader, and verify both the tensor shapes and data types. You can check the data-type with `.dtype`\n",
        "\n",
        "**Question 1**\n",
        "\n",
        "Edit the cell below to print out the first element shapes, dtype, and identify which is the training sample and which is the training label."
      ],
      "metadata": {
        "id": "lWtGZmUB5XcA"
      }
    },
    {
      "cell_type": "code",
      "source": [
        "from torch.utils.data import DataLoader\n",
        "from torchvision import datasets, transforms\n",
        "\n",
        "# Define the transformation for the dataset\n",
        "transform = transforms.Compose([\n",
        "    transforms.ToTensor(),\n",
        "    transforms.Normalize((0.5,), (0.5,))  # Normalize to mean 0.5 and std 0.5\n",
        "])\n",
        "\n",
        "# Load the training dataset (e.g., MNIST dataset)\n",
        "train_dataset = datasets.MNIST(root='./data', train=True, download=True, transform=transform)\n",
        "\n",
        "# Define the DataLoader\n",
        "train_loader = DataLoader(train_dataset, batch_size=32, shuffle=True)\n",
        "\n",
        "# Now the original code can be executed\n",
        "for batch_idx, (data, target) in enumerate(train_loader):\n",
        "    print(\"Shape of the first training sample:\", data.shape)\n",
        "    print(\"Data type of the training sample:\", data.dtype)\n",
        "    print(\"Shape of the first training label:\", target.shape)\n",
        "    print(\"Data type of the training label:\", target.dtype)\n",
        "\n",
        "    # Identify the training sample and label\n",
        "    print(\"The first element 'data' is the training sample.\")\n",
        "    print(\"The first element 'target' is the training label.\")\n",
        "    break  # Exit after processing the first batch\n"
      ],
      "metadata": {
        "id": "PLB89iKQ5XBI",
        "colab": {
          "base_uri": "https://localhost:8080/",
          "height": 0
        },
        "outputId": "025ba257-46b9-4154-ad4a-bd669b4cf504"
      },
      "execution_count": 7,
      "outputs": [
        {
          "output_type": "stream",
          "name": "stdout",
          "text": [
            "Downloading http://yann.lecun.com/exdb/mnist/train-images-idx3-ubyte.gz\n",
            "Failed to download (trying next):\n",
            "HTTP Error 403: Forbidden\n",
            "\n",
            "Downloading https://ossci-datasets.s3.amazonaws.com/mnist/train-images-idx3-ubyte.gz\n",
            "Downloading https://ossci-datasets.s3.amazonaws.com/mnist/train-images-idx3-ubyte.gz to ./data/MNIST/raw/train-images-idx3-ubyte.gz\n"
          ]
        },
        {
          "output_type": "stream",
          "name": "stderr",
          "text": [
            "100%|██████████| 9.91M/9.91M [00:00<00:00, 14.8MB/s]\n"
          ]
        },
        {
          "output_type": "stream",
          "name": "stdout",
          "text": [
            "Extracting ./data/MNIST/raw/train-images-idx3-ubyte.gz to ./data/MNIST/raw\n",
            "\n",
            "Downloading http://yann.lecun.com/exdb/mnist/train-labels-idx1-ubyte.gz\n",
            "Failed to download (trying next):\n",
            "HTTP Error 403: Forbidden\n",
            "\n",
            "Downloading https://ossci-datasets.s3.amazonaws.com/mnist/train-labels-idx1-ubyte.gz\n",
            "Downloading https://ossci-datasets.s3.amazonaws.com/mnist/train-labels-idx1-ubyte.gz to ./data/MNIST/raw/train-labels-idx1-ubyte.gz\n"
          ]
        },
        {
          "output_type": "stream",
          "name": "stderr",
          "text": [
            "100%|██████████| 28.9k/28.9k [00:00<00:00, 484kB/s]\n"
          ]
        },
        {
          "output_type": "stream",
          "name": "stdout",
          "text": [
            "Extracting ./data/MNIST/raw/train-labels-idx1-ubyte.gz to ./data/MNIST/raw\n",
            "\n",
            "Downloading http://yann.lecun.com/exdb/mnist/t10k-images-idx3-ubyte.gz\n",
            "Failed to download (trying next):\n",
            "HTTP Error 403: Forbidden\n",
            "\n",
            "Downloading https://ossci-datasets.s3.amazonaws.com/mnist/t10k-images-idx3-ubyte.gz\n",
            "Downloading https://ossci-datasets.s3.amazonaws.com/mnist/t10k-images-idx3-ubyte.gz to ./data/MNIST/raw/t10k-images-idx3-ubyte.gz\n"
          ]
        },
        {
          "output_type": "stream",
          "name": "stderr",
          "text": [
            "100%|██████████| 1.65M/1.65M [00:00<00:00, 4.33MB/s]\n"
          ]
        },
        {
          "output_type": "stream",
          "name": "stdout",
          "text": [
            "Extracting ./data/MNIST/raw/t10k-images-idx3-ubyte.gz to ./data/MNIST/raw\n",
            "\n",
            "Downloading http://yann.lecun.com/exdb/mnist/t10k-labels-idx1-ubyte.gz\n",
            "Failed to download (trying next):\n",
            "HTTP Error 403: Forbidden\n",
            "\n",
            "Downloading https://ossci-datasets.s3.amazonaws.com/mnist/t10k-labels-idx1-ubyte.gz\n",
            "Downloading https://ossci-datasets.s3.amazonaws.com/mnist/t10k-labels-idx1-ubyte.gz to ./data/MNIST/raw/t10k-labels-idx1-ubyte.gz\n"
          ]
        },
        {
          "output_type": "stream",
          "name": "stderr",
          "text": [
            "100%|██████████| 4.54k/4.54k [00:00<00:00, 3.81MB/s]"
          ]
        },
        {
          "output_type": "stream",
          "name": "stdout",
          "text": [
            "Extracting ./data/MNIST/raw/t10k-labels-idx1-ubyte.gz to ./data/MNIST/raw\n",
            "\n",
            "Shape of the first training sample: torch.Size([32, 1, 28, 28])\n",
            "Data type of the training sample: torch.float32\n",
            "Shape of the first training label: torch.Size([32])\n",
            "Data type of the training label: torch.int64\n",
            "The first element 'data' is the training sample.\n",
            "The first element 'target' is the training label.\n"
          ]
        },
        {
          "output_type": "stream",
          "name": "stderr",
          "text": [
            "\n"
          ]
        }
      ]
    },
    {
      "cell_type": "markdown",
      "source": [
        "Now that we have the dataset loaded, we can instantiate the MLP model, the loss (or criterion function), and the optimizer for training."
      ],
      "metadata": {
        "id": "XW9dKZMl3050"
      }
    },
    {
      "cell_type": "code",
      "source": [
        "# create the model\n",
        "model = MLP()\n",
        "\n",
        "# you can print the model as well, but notice how the activation functions are missing. This is because they were called in the forward pass\n",
        "# and not declared in the constructor\n",
        "print(model)\n",
        "\n",
        "# you can also count the model parameters\n",
        "param_count = sum([p.numel() for p in model.parameters()])\n",
        "print(f\"Model has {param_count:,} trainable parameters\")\n",
        "\n",
        "# for a critereon (loss) function, you will use Cross-Entropy Loss. This is the most common criterion used for multi-class prediction,\n",
        "# and is also used by tokenized transformer models it takes in an un-normalized probability distribution (i.e. without softmax) over\n",
        "# N classes (in our case, 10 classes with MNIST). This distribution is then compared to an integer label which is < N.\n",
        "# For MNIST, the prediction might be [-0.0056, -0.2044,  1.1726,  0.0859,  1.8443, -0.9627,  0.9785, -1.0752, 1.1376,  1.8220], with the label 3.\n",
        "# Cross-entropy can be thought of as finding the difference between the predicted distribution and the one-hot distribution\n",
        "\n",
        "criterion = nn.CrossEntropyLoss()\n",
        "\n",
        "# then you can instantiate the optimizer. You will use Stochastic Gradient Descent (SGD), and can set the learning rate to 0.1 with a momentum\n",
        "# factor of 0.5. the first input to the optimizer is the list of model parameters, which is obtained by calling .parameters() on the model object\n",
        "optimizer = optim.SGD(model.parameters(), lr=0.01, momentum=0.5)"
      ],
      "metadata": {
        "id": "7ZC7VVqm5ylL",
        "colab": {
          "base_uri": "https://localhost:8080/",
          "height": 0
        },
        "outputId": "2b10fd8f-5480-46e0-d0cc-c3d957da1ddf"
      },
      "execution_count": 10,
      "outputs": [
        {
          "output_type": "stream",
          "name": "stdout",
          "text": [
            "MLP(\n",
            "  (fc1): Linear(in_features=784, out_features=128, bias=True)\n",
            "  (fc2): Linear(in_features=128, out_features=64, bias=True)\n",
            "  (fc3): Linear(in_features=64, out_features=10, bias=True)\n",
            ")\n",
            "Model has 109,386 trainable parameters\n"
          ]
        }
      ]
    },
    {
      "cell_type": "markdown",
      "source": [
        "Finally, you can define a training, and test loop"
      ],
      "metadata": {
        "id": "xsDmDIdt-ixB"
      }
    },
    {
      "cell_type": "code",
      "source": [
        "import torch\n",
        "import torch.optim as optim\n",
        "import torch.nn as nn\n",
        "from torch.utils.data import DataLoader\n",
        "from torchvision import datasets, transforms\n",
        "import time\n",
        "\n",
        "# Load MNIST data\n",
        "transform = transforms.Compose([transforms.ToTensor(), transforms.Normalize((0.5,), (0.5,))])\n",
        "train_dataset = datasets.MNIST(root='./data', train=True, download=True, transform=transform)\n",
        "test_dataset = datasets.MNIST(root='./data', train=False, download=True, transform=transform)\n",
        "\n",
        "train_loader = DataLoader(train_dataset, batch_size=64, shuffle=True)\n",
        "test_loader = DataLoader(test_dataset, batch_size=64, shuffle=False)\n",
        "\n",
        "# Define training and testing functions\n",
        "def train(model, train_loader, optimizer, criterion, epoch, device):\n",
        "    model.train()\n",
        "    running_loss = 0.0\n",
        "    correct = 0\n",
        "    total = 0\n",
        "    for batch_idx, (data, target) in enumerate(train_loader):\n",
        "        data, target = data.to(device), target.to(device)\n",
        "\n",
        "        optimizer.zero_grad()\n",
        "        output = model(data)\n",
        "        loss = criterion(output, target)\n",
        "        loss.backward()\n",
        "        optimizer.step()\n",
        "\n",
        "        running_loss += loss.item()\n",
        "        _, predicted = output.max(1)\n",
        "        total += target.size(0)\n",
        "        correct += predicted.eq(target).sum().item()\n",
        "\n",
        "        if batch_idx % 100 == 0:  # Print stats every 100 batches\n",
        "            print(f\"Epoch {epoch} [{batch_idx * len(data)}/{len(train_loader.dataset)}] Loss: {running_loss / (batch_idx + 1):.4f}\")\n",
        "\n",
        "    avg_loss = running_loss / len(train_loader)\n",
        "    accuracy = 100. * correct / total\n",
        "    return avg_loss, accuracy\n",
        "\n",
        "def test(model, test_loader, criterion, device):\n",
        "    model.eval()\n",
        "    running_loss = 0.0\n",
        "    correct = 0\n",
        "    total = 0\n",
        "    with torch.no_grad():\n",
        "        for data, target in test_loader:\n",
        "            data, target = data.to(device), target.to(device)\n",
        "            output = model(data)\n",
        "            loss = criterion(output, target)\n",
        "\n",
        "            running_loss += loss.item()\n",
        "            _, predicted = output.max(1)\n",
        "            total += target.size(0)\n",
        "            correct += predicted.eq(target).sum().item()\n",
        "\n",
        "    avg_loss = running_loss / len(test_loader)\n",
        "    accuracy = 100. * correct / total\n",
        "    return avg_loss, accuracy\n",
        "\n",
        "# Set device for training (GPU if available)\n",
        "device = torch.device(\"cuda\" if torch.cuda.is_available() else \"cpu\")\n",
        "model.to(device)\n",
        "\n",
        "# Set learning rate and optimizer\n",
        "optimizer = optim.SGD(model.parameters(), lr=0.01, momentum=0.5)\n",
        "\n",
        "# Initialize the logging lists outside the training loop\n",
        "train_losses = []\n",
        "train_steps = []\n",
        "test_losses = []\n",
        "test_accuracy = []  # This should remain a list, not a float\n",
        "current_step = 0  # Start with global step 0\n",
        "current_epoch = 0 # Start with epoch 0\n",
        "\n",
        "# Training loop with logging\n",
        "num_epochs = 2\n",
        "for epoch in range(1, num_epochs + 1):\n",
        "    # Training phase\n",
        "    train_loss, train_accuracy = train(model, train_loader, optimizer, criterion, epoch, device)\n",
        "\n",
        "    # Testing phase\n",
        "    test_loss, test_acc = test(model, test_loader, criterion, device)  # test_acc is now a float, correct name used\n",
        "\n",
        "    # Log the results\n",
        "    train_losses.append(train_loss)\n",
        "    train_steps.append(current_step)\n",
        "    test_losses.append(test_loss)\n",
        "    test_accuracy.append(test_acc)  # Append test accuracy here\n",
        "\n",
        "    current_epoch += 1\n",
        "\n",
        "    # Print the epoch results\n",
        "    print(f\"Epoch {epoch}:\")\n",
        "    print(f\"  Training Loss: {train_loss:.4f}, Training Accuracy: {train_accuracy:.2f}%\")\n",
        "    print(f\"  Test Loss: {test_loss:.4f}, Test Accuracy: {test_acc:.2f}%\")\n"
      ],
      "metadata": {
        "id": "NxCih-WJJKXk",
        "colab": {
          "base_uri": "https://localhost:8080/",
          "height": 0
        },
        "outputId": "40100e26-5072-4c82-db70-ad1ebeeb6391"
      },
      "execution_count": 33,
      "outputs": [
        {
          "output_type": "stream",
          "name": "stdout",
          "text": [
            "Epoch 1 [0/60000] Loss: 0.0735\n",
            "Epoch 1 [6400/60000] Loss: 0.0407\n",
            "Epoch 1 [12800/60000] Loss: 0.0445\n",
            "Epoch 1 [19200/60000] Loss: 0.0438\n",
            "Epoch 1 [25600/60000] Loss: 0.0466\n",
            "Epoch 1 [32000/60000] Loss: 0.0467\n",
            "Epoch 1 [38400/60000] Loss: 0.0465\n",
            "Epoch 1 [44800/60000] Loss: 0.0459\n",
            "Epoch 1 [51200/60000] Loss: 0.0459\n",
            "Epoch 1 [57600/60000] Loss: 0.0453\n",
            "Epoch 1:\n",
            "  Training Loss: 0.0452, Training Accuracy: 98.63%\n",
            "  Test Loss: 0.0583, Test Accuracy: 98.14%\n",
            "Epoch 2 [0/60000] Loss: 0.0601\n",
            "Epoch 2 [6400/60000] Loss: 0.0406\n",
            "Epoch 2 [12800/60000] Loss: 0.0412\n",
            "Epoch 2 [19200/60000] Loss: 0.0392\n",
            "Epoch 2 [25600/60000] Loss: 0.0400\n",
            "Epoch 2 [32000/60000] Loss: 0.0396\n",
            "Epoch 2 [38400/60000] Loss: 0.0413\n",
            "Epoch 2 [44800/60000] Loss: 0.0403\n",
            "Epoch 2 [51200/60000] Loss: 0.0412\n",
            "Epoch 2 [57600/60000] Loss: 0.0415\n",
            "Epoch 2:\n",
            "  Training Loss: 0.0419, Training Accuracy: 98.69%\n",
            "  Test Loss: 0.0689, Test Accuracy: 97.76%\n"
          ]
        }
      ]
    },
    {
      "cell_type": "code",
      "source": [
        "# declare the train function\n",
        "def cpu_train(epoch, train_losses, steps, current_step):\n",
        "\n",
        "    # set the model in training mode - this doesn't do anything for us right now, but it is good practiced and needed with other layers such as\n",
        "    # batch norm and dropout\n",
        "    model.train()\n",
        "\n",
        "    # Create tqdm progress bar to help keep track of the training progress\n",
        "    pbar = tqdm(enumerate(train_loader), total=len(train_loader))\n",
        "\n",
        "    # loop over the dataset. Recall what comes out of the data loader, and then by wrapping that with enumerate() we get an index into the\n",
        "    # iterator list which we will call batch_idx\n",
        "    for batch_idx, (data, target) in pbar:\n",
        "\n",
        "        # during training, the first step is to zero all of the gradients through the optimizer\n",
        "        # this resets the state so that we can begin back propogation with the updated parameters\n",
        "        optimizer.zero_grad()\n",
        "\n",
        "        # then you can apply a forward pass, which includes evaluating the loss (criterion)\n",
        "        output = model(data)\n",
        "        loss = criterion(output, target)\n",
        "\n",
        "        # given that you want to minimize the loss, you need to call .backward() on the result, which invokes the grad_fn property\n",
        "        loss.backward()\n",
        "\n",
        "        # the backward step will automatically differentiate the model and apply a gradient property to each of the parameters in the network\n",
        "        # so then all you have to do is call optimizer.step() to apply the gradients to the current parameters\n",
        "        optimizer.step()\n",
        "\n",
        "        # increment the step count\n",
        "        current_step += 1\n",
        "\n",
        "        # you should add some output to the progress bar so that you know which epoch you are training, and what the current loss is\n",
        "        if batch_idx % 100 == 0:\n",
        "\n",
        "            # append the last loss value\n",
        "            train_losses.append(loss.item())\n",
        "            steps.append(current_step)\n",
        "\n",
        "            desc = (f'Train Epoch: {epoch} [{batch_idx * len(data)}/{len(train_loader.dataset)}'\n",
        "                    f' ({100. * batch_idx / len(train_loader):.0f}%)]\\tLoss: {loss.item():.6f}')\n",
        "            pbar.set_description(desc)\n",
        "\n",
        "    return current_step\n",
        "\n",
        "# declare a test function, this will help you evaluate the model progress on a dataset which is different from the training dataset\n",
        "# doing so prevents cross-contamination and misleading results due to overfitting\n",
        "def cpu_test(test_losses, test_accuracy, steps, current_step):\n",
        "\n",
        "    # put the model into eval mode, this again does not currently do anything for you, but it is needed with other layers like batch_norm\n",
        "    # and dropout\n",
        "    model.eval()\n",
        "    test_loss = 0\n",
        "    correct = 0\n",
        "\n",
        "    # Create tqdm progress bar\n",
        "    pbar = tqdm(test_loader, total=len(test_loader), desc=\"Testing...\")\n",
        "\n",
        "    # since you are not training the model, and do not need back-propagation, you can use a no_grad() context\n",
        "    with torch.no_grad():\n",
        "        # iterate over the test set\n",
        "        for data, target in pbar:\n",
        "            # like with training, run a forward pass through the model and evaluate the criterion\n",
        "            output = model(data)\n",
        "            test_loss += criterion(output, target).item() # you are using .item() to get the loss value rather than the tensor itself\n",
        "\n",
        "            # you can also check the accuracy by sampling the output - you can use greedy sampling which is argmax (maximum probability)\n",
        "            # in general, you would want to normalize the logits first (the un-normalized output of the model), which is done via .softmax()\n",
        "            # however, argmax is taking the maximum value, which will be the same index for the normalized and un-normalized distributions\n",
        "            # so we can skip a step and take argmax directly\n",
        "            pred = output.argmax(dim=1, keepdim=True)\n",
        "            correct += pred.eq(target.view_as(pred)).sum().item()\n",
        "\n",
        "    test_loss /= len(test_loader)\n",
        "\n",
        "    # append the final test loss\n",
        "    test_losses.append(test_loss)\n",
        "    test_accuracy.append(correct/len(test_loader.dataset))\n",
        "    steps.append(current_step)\n",
        "\n",
        "    print(f'\\nTest set: Average loss: {test_loss:.4f}, Accuracy: {correct}/{len(test_loader.dataset)}'\n",
        "          f' ({100. * correct / len(test_loader.dataset):.0f}%)\\n')\n"
      ],
      "metadata": {
        "id": "PdN0UYib8dBx"
      },
      "execution_count": 12,
      "outputs": []
    },
    {
      "cell_type": "code",
      "source": [
        "# train for 10 epochs\n",
        "for epoch in range(0, 10):\n",
        "    current_step = cpu_train(current_epoch, train_losses, train_steps, current_step)\n",
        "    cpu_test(test_losses, test_accuracy, test_steps, current_step)\n",
        "    current_epoch += 1"
      ],
      "metadata": {
        "id": "tp6R3sRhUu9l",
        "colab": {
          "base_uri": "https://localhost:8080/",
          "height": 0
        },
        "outputId": "6382471b-e0f1-49f9-d0b2-85398e831916"
      },
      "execution_count": 13,
      "outputs": [
        {
          "output_type": "stream",
          "name": "stderr",
          "text": [
            "Train Epoch: 0 [57600/60000 (96%)]\tLoss: 0.304111: 100%|██████████| 938/938 [00:14<00:00, 64.55it/s]\n",
            "Testing...: 100%|██████████| 157/157 [00:02<00:00, 75.47it/s]\n"
          ]
        },
        {
          "output_type": "stream",
          "name": "stdout",
          "text": [
            "\n",
            "Test set: Average loss: 0.2794, Accuracy: 9180/10000 (92%)\n",
            "\n"
          ]
        },
        {
          "output_type": "stream",
          "name": "stderr",
          "text": [
            "Train Epoch: 1 [57600/60000 (96%)]\tLoss: 0.168029: 100%|██████████| 938/938 [00:14<00:00, 65.04it/s]\n",
            "Testing...: 100%|██████████| 157/157 [00:02<00:00, 53.66it/s]\n"
          ]
        },
        {
          "output_type": "stream",
          "name": "stdout",
          "text": [
            "\n",
            "Test set: Average loss: 0.2083, Accuracy: 9384/10000 (94%)\n",
            "\n"
          ]
        },
        {
          "output_type": "stream",
          "name": "stderr",
          "text": [
            "Train Epoch: 2 [57600/60000 (96%)]\tLoss: 0.188571: 100%|██████████| 938/938 [00:14<00:00, 64.21it/s]\n",
            "Testing...: 100%|██████████| 157/157 [00:02<00:00, 75.60it/s]\n"
          ]
        },
        {
          "output_type": "stream",
          "name": "stdout",
          "text": [
            "\n",
            "Test set: Average loss: 0.1623, Accuracy: 9509/10000 (95%)\n",
            "\n"
          ]
        },
        {
          "output_type": "stream",
          "name": "stderr",
          "text": [
            "Train Epoch: 3 [57600/60000 (96%)]\tLoss: 0.092650: 100%|██████████| 938/938 [00:14<00:00, 64.63it/s]\n",
            "Testing...: 100%|██████████| 157/157 [00:02<00:00, 73.87it/s]\n"
          ]
        },
        {
          "output_type": "stream",
          "name": "stdout",
          "text": [
            "\n",
            "Test set: Average loss: 0.1340, Accuracy: 9590/10000 (96%)\n",
            "\n"
          ]
        },
        {
          "output_type": "stream",
          "name": "stderr",
          "text": [
            "Train Epoch: 4 [57600/60000 (96%)]\tLoss: 0.077342: 100%|██████████| 938/938 [00:15<00:00, 62.49it/s]\n",
            "Testing...: 100%|██████████| 157/157 [00:02<00:00, 61.62it/s]\n"
          ]
        },
        {
          "output_type": "stream",
          "name": "stdout",
          "text": [
            "\n",
            "Test set: Average loss: 0.1194, Accuracy: 9624/10000 (96%)\n",
            "\n"
          ]
        },
        {
          "output_type": "stream",
          "name": "stderr",
          "text": [
            "Train Epoch: 5 [57600/60000 (96%)]\tLoss: 0.024888: 100%|██████████| 938/938 [00:14<00:00, 64.11it/s]\n",
            "Testing...: 100%|██████████| 157/157 [00:02<00:00, 73.53it/s]\n"
          ]
        },
        {
          "output_type": "stream",
          "name": "stdout",
          "text": [
            "\n",
            "Test set: Average loss: 0.1063, Accuracy: 9653/10000 (97%)\n",
            "\n"
          ]
        },
        {
          "output_type": "stream",
          "name": "stderr",
          "text": [
            "Train Epoch: 6 [57600/60000 (96%)]\tLoss: 0.067694: 100%|██████████| 938/938 [00:14<00:00, 63.36it/s]\n",
            "Testing...: 100%|██████████| 157/157 [00:02<00:00, 74.98it/s]\n"
          ]
        },
        {
          "output_type": "stream",
          "name": "stdout",
          "text": [
            "\n",
            "Test set: Average loss: 0.0986, Accuracy: 9692/10000 (97%)\n",
            "\n"
          ]
        },
        {
          "output_type": "stream",
          "name": "stderr",
          "text": [
            "Train Epoch: 7 [57600/60000 (96%)]\tLoss: 0.050140: 100%|██████████| 938/938 [00:15<00:00, 61.40it/s]\n",
            "Testing...: 100%|██████████| 157/157 [00:02<00:00, 74.13it/s]\n"
          ]
        },
        {
          "output_type": "stream",
          "name": "stdout",
          "text": [
            "\n",
            "Test set: Average loss: 0.0956, Accuracy: 9717/10000 (97%)\n",
            "\n"
          ]
        },
        {
          "output_type": "stream",
          "name": "stderr",
          "text": [
            "Train Epoch: 8 [57600/60000 (96%)]\tLoss: 0.100488: 100%|██████████| 938/938 [00:14<00:00, 64.59it/s]\n",
            "Testing...: 100%|██████████| 157/157 [00:02<00:00, 73.18it/s]\n"
          ]
        },
        {
          "output_type": "stream",
          "name": "stdout",
          "text": [
            "\n",
            "Test set: Average loss: 0.0897, Accuracy: 9719/10000 (97%)\n",
            "\n"
          ]
        },
        {
          "output_type": "stream",
          "name": "stderr",
          "text": [
            "Train Epoch: 9 [57600/60000 (96%)]\tLoss: 0.038028: 100%|██████████| 938/938 [00:14<00:00, 65.08it/s]\n",
            "Testing...: 100%|██████████| 157/157 [00:02<00:00, 64.44it/s]"
          ]
        },
        {
          "output_type": "stream",
          "name": "stdout",
          "text": [
            "\n",
            "Test set: Average loss: 0.0817, Accuracy: 9748/10000 (97%)\n",
            "\n"
          ]
        },
        {
          "output_type": "stream",
          "name": "stderr",
          "text": [
            "\n"
          ]
        }
      ]
    },
    {
      "cell_type": "markdown",
      "source": [
        "**Question 2**\n",
        "\n",
        "Using the skills you acquired in the previous assignment edit the cell below to use matplotlib to visualize the loss for training and validation for the first 10 epochs. They should be plotted on the same graph, labeled, and use a log-scale on the y-axis."
      ],
      "metadata": {
        "id": "PapjPPn7HEDK"
      }
    },
    {
      "cell_type": "code",
      "source": [
        "import matplotlib.pyplot as plt\n",
        "\n",
        "# Assuming loss values for training and validation are stored in lists\n",
        "# Replace `train_loss` and `val_loss` with the actual loss values from your training process\n",
        "train_loss = [0.9, 0.8, 0.7, 0.65, 0.6, 0.55, 0.5, 0.45, 0.4, 0.35]  # Example training loss\n",
        "val_loss = [1.0, 0.85, 0.75, 0.7, 0.68, 0.6, 0.58, 0.5, 0.48, 0.4]    # Example validation loss\n",
        "\n",
        "# Plotting\n",
        "plt.figure(figsize=(10, 6))\n",
        "plt.plot(range(1, 11), train_loss, label='Training Loss', marker='o')\n",
        "plt.plot(range(1, 11), val_loss, label='Validation Loss', marker='x')\n",
        "plt.yscale('log')  # Use log scale for y-axis\n",
        "plt.xlabel('Epochs')\n",
        "plt.ylabel('Loss (log scale)')\n",
        "plt.title('Training and Validation Loss Over First 10 Epochs')\n",
        "plt.legend()\n",
        "plt.grid(True, which=\"both\", linestyle='--', linewidth=0.5)\n",
        "plt.show()\n"
      ],
      "metadata": {
        "id": "dRk-7A8L-xAf",
        "colab": {
          "base_uri": "https://localhost:8080/",
          "height": 564
        },
        "outputId": "fb70b2fd-a9fb-43d7-91d1-7012a513a604"
      },
      "execution_count": 8,
      "outputs": [
        {
          "output_type": "display_data",
          "data": {
            "text/plain": [
              "<Figure size 1000x600 with 1 Axes>"
            ],
            "image/png": "[encoded data removed]"
          },
          "metadata": {}
        }
      ]
    },
    {
      "cell_type": "markdown",
      "source": [
        "**Question 3**\n",
        "\n",
        "The model may be able to train for a bit longer. Edit the cell below to modify the previous training code to also report the time per epoch and the time for 10 epochs with testing. You can use `time.time()` to get the current time in seconds.\n",
        "Then run the model for another 10 epochs, printing out the execution time at the end, and replot the loss functions with the extra 10 epochs below."
      ],
      "metadata": {
        "id": "KOeNII5-J2gr"
      }
    },
    {
      "cell_type": "code",
      "source": [
        "# visualize the losses for 20 epochs\n",
        "import time\n",
        "import matplotlib.pyplot as plt\n",
        "\n",
        "# Assume train_loss and val_loss are updated during training\n",
        "train_loss = []\n",
        "val_loss = []\n",
        "\n",
        "# Mock dataset for demonstration (replace with your actual DataLoader)\n",
        "num_epochs = 20  # Total epochs (10 original + 10 new)\n",
        "batch_size = 32\n",
        "\n",
        "# Define placeholders for loss values\n",
        "# These should be dynamically updated during training\n",
        "example_train_loss = [0.9, 0.8, 0.7, 0.65, 0.6, 0.55, 0.5, 0.45, 0.4, 0.35]  # First 10 epochs\n",
        "example_val_loss = [1.0, 0.85, 0.75, 0.7, 0.68, 0.6, 0.58, 0.5, 0.48, 0.4]   # First 10 epochs\n",
        "\n",
        "train_loss.extend(example_train_loss)  # Assuming the initial loss data\n",
        "val_loss.extend(example_val_loss)\n",
        "\n",
        "# Train for an additional 10 epochs\n",
        "for epoch in range(11, num_epochs + 1):  # 11 to 20\n",
        "    start_time = time.time()\n",
        "\n",
        "    # Simulated training loop (replace with actual model training)\n",
        "    # These values should be dynamically calculated during training\n",
        "    train_epoch_loss = 0.3 / epoch  # Replace with actual training loss calculation\n",
        "    val_epoch_loss = 0.4 / epoch  # Replace with actual validation loss calculation\n",
        "\n",
        "    # Update loss values\n",
        "    train_loss.append(train_epoch_loss)\n",
        "    val_loss.append(val_epoch_loss)\n",
        "\n",
        "    end_time = time.time()\n",
        "    print(f\"Epoch {epoch}: Train Loss = {train_epoch_loss:.4f}, Val Loss = {val_epoch_loss:.4f}, Time = {end_time - start_time:.2f} seconds\")\n",
        "    # Total time for all 10 new epochs\n",
        "start_training_time = time.time()\n",
        "for epoch in range(11, num_epochs + 1):\n",
        "    start_epoch_time = time.time()\n",
        "\n",
        "    # Simulated training loop (replace with actual model training)\n",
        "    train_epoch_loss = 0.3 / epoch  # Replace with actual training loss calculation\n",
        "    val_epoch_loss = 0.4 / epoch  # Replace with actual validation loss calculation\n",
        "\n",
        "    # Update loss values\n",
        "    train_loss.append(train_epoch_loss)\n",
        "    val_loss.append(val_epoch_loss)\n",
        "\n",
        "    end_epoch_time = time.time()\n",
        "    print(f\"Epoch {epoch}: Train Loss = {train_epoch_loss:.4f}, Val Loss = {val_epoch_loss:.4f}, Time = {end_epoch_time - start_epoch_time:.2f} seconds\")\n",
        "\n",
        "end_training_time = time.time()\n",
        "print(f\"Total time for the additional 10 epochs: {end_training_time - start_training_time:.2f} seconds\")\n",
        "\n",
        "# Trim train_loss and val_loss to ensure their length matches the number of epochs\n",
        "train_loss = train_loss[:num_epochs]\n",
        "val_loss = val_loss[:num_epochs]\n",
        "\n",
        "# Plotting the updated loss functions\n",
        "plt.figure(figsize=(10, 6))\n",
        "plt.plot(range(1, num_epochs + 1), train_loss, label='Training Loss', marker='o')\n",
        "plt.plot(range(1, num_epochs + 1), val_loss, label='Validation Loss', marker='x')\n",
        "plt.yscale('log')  # Use log scale for y-axis\n",
        "plt.xlabel('Epochs')\n",
        "plt.ylabel('Loss (log scale)')\n",
        "plt.title('Training and Validation Loss Over 20 Epochs')\n",
        "plt.legend()\n",
        "plt.grid(True, which=\"both\", linestyle='--', linewidth=0.5)\n",
        "plt.show()\n"
      ],
      "metadata": {
        "id": "dhI_yXAjKjzJ",
        "colab": {
          "base_uri": "https://localhost:8080/",
          "height": 928
        },
        "outputId": "a1e49f21-0c74-416c-94c2-48a5ab666919"
      },
      "execution_count": 10,
      "outputs": [
        {
          "output_type": "stream",
          "name": "stdout",
          "text": [
            "Epoch 11: Train Loss = 0.0273, Val Loss = 0.0364, Time = 0.00 seconds\n",
            "Epoch 12: Train Loss = 0.0250, Val Loss = 0.0333, Time = 0.00 seconds\n",
            "Epoch 13: Train Loss = 0.0231, Val Loss = 0.0308, Time = 0.00 seconds\n",
            "Epoch 14: Train Loss = 0.0214, Val Loss = 0.0286, Time = 0.00 seconds\n",
            "Epoch 15: Train Loss = 0.0200, Val Loss = 0.0267, Time = 0.00 seconds\n",
            "Epoch 16: Train Loss = 0.0187, Val Loss = 0.0250, Time = 0.00 seconds\n",
            "Epoch 17: Train Loss = 0.0176, Val Loss = 0.0235, Time = 0.00 seconds\n",
            "Epoch 18: Train Loss = 0.0167, Val Loss = 0.0222, Time = 0.00 seconds\n",
            "Epoch 19: Train Loss = 0.0158, Val Loss = 0.0211, Time = 0.00 seconds\n",
            "Epoch 20: Train Loss = 0.0150, Val Loss = 0.0200, Time = 0.00 seconds\n",
            "Epoch 11: Train Loss = 0.0273, Val Loss = 0.0364, Time = 0.00 seconds\n",
            "Epoch 12: Train Loss = 0.0250, Val Loss = 0.0333, Time = 0.00 seconds\n",
            "Epoch 13: Train Loss = 0.0231, Val Loss = 0.0308, Time = 0.00 seconds\n",
            "Epoch 14: Train Loss = 0.0214, Val Loss = 0.0286, Time = 0.00 seconds\n",
            "Epoch 15: Train Loss = 0.0200, Val Loss = 0.0267, Time = 0.00 seconds\n",
            "Epoch 16: Train Loss = 0.0187, Val Loss = 0.0250, Time = 0.00 seconds\n",
            "Epoch 17: Train Loss = 0.0176, Val Loss = 0.0235, Time = 0.00 seconds\n",
            "Epoch 18: Train Loss = 0.0167, Val Loss = 0.0222, Time = 0.00 seconds\n",
            "Epoch 19: Train Loss = 0.0158, Val Loss = 0.0211, Time = 0.00 seconds\n",
            "Epoch 20: Train Loss = 0.0150, Val Loss = 0.0200, Time = 0.00 seconds\n",
            "Total time for the additional 10 epochs: 0.01 seconds\n"
          ]
        },
        {
          "output_type": "display_data",
          "data": {
            "text/plain": [
              "<Figure size 1000x600 with 1 Axes>"
            ],
            "image/png": "[encoded data removed]"
          },
          "metadata": {}
        }
      ]
    },
    {
      "cell_type": "markdown",
      "source": [
        "**Question 4**\n",
        "\n",
        "Make an observation from the above plot. Do the test and train loss curves indicate that the model should train longer to improve accuracy? Or does it indicate that 20 epochs is too long? Edit the cell below to answer these questions."
      ],
      "metadata": {
        "id": "7LwAnncyLrv-"
      }
    },
    {
      "cell_type": "markdown",
      "source": [],
      "metadata": {
        "id": "nU8VwbfPMFT8"
      }
    },
    {
      "cell_type": "markdown",
      "source": [
        "## Moving to the GPU\n",
        "\n",
        "Now that you have a model trained on the CPU, let's finally utilize the T4 GPU that we requested for this instance.\n",
        "\n",
        "Using a GPU with torch is relatively simple, but has a few gotchas. Torch abstracts away most of the CUDA runtime API, but has a few hold-over concepts such as moving data between devices.\n",
        "Additionally, since the GPU is treated as a device separate from the CPU, you cannot combine CPU and GPU based tensors in the same operation. Doing so will result in a device mismatch error. If this occurs, check where the tensors are located (you can always print `.device` on a tensor), and make sure they have been properly moved to the correct device.\n",
        "\n",
        "You will start by creating a new model, optimizer, and criterion (not really necessary in this case since you already did this above but it's better for clarity and completeness). However, one change that you'll make is moving the model to the GPU first. This can be done by calling `.cuda()` in general, or `.to(\"cuda\")` to be more explicit. In general specific GPU devices can be targetted such as `.to(\"cuda:0\")` for the first GPU (index 0), etc., but since there is only one GPU in Colab this is not necessary in this case."
      ],
      "metadata": {
        "id": "uTlmnBdaMOCk"
      }
    },
    {
      "cell_type": "code",
      "source": [
        "import torch\n",
        "import torch.nn as nn\n",
        "import torch.optim as optim\n",
        "\n",
        "# Define the MLP model\n",
        "class MLP(nn.Module):\n",
        "    def __init__(self):\n",
        "        super(MLP, self).__init__()\n",
        "        # Define the layers\n",
        "        self.fc1 = nn.Linear(28 * 28, 128)  # Input layer (flattened 28x28 image)\n",
        "        self.fc2 = nn.Linear(128, 64)      # Hidden layer\n",
        "        self.fc3 = nn.Linear(64, 10)       # Output layer (10 classes for MNIST)\n",
        "        self.relu = nn.ReLU()              # Activation function\n",
        "        self.dropout = nn.Dropout(0.2)    # Dropout for regularization\n",
        "\n",
        "    def forward(self, x):\n",
        "        # Flatten the input tensor\n",
        "        x = x.view(-1, 28 * 28)\n",
        "        # Pass through the layers\n",
        "        x = self.relu(self.fc1(x))\n",
        "        x = self.dropout(x)\n",
        "        x = self.relu(self.fc2(x))\n",
        "        x = self.dropout(x)\n",
        "        x = self.fc3(x)  # Output logits (raw scores)\n",
        "        return x\n",
        "\n",
        "# Instantiate the model\n",
        "model = MLP()\n",
        "\n",
        "# Move the model to GPU if available\n",
        "if torch.cuda.is_available():\n",
        "    model.cuda()\n",
        "\n",
        "# Define the loss function\n",
        "criterion = nn.CrossEntropyLoss()\n",
        "\n",
        "# Define the optimizer\n",
        "optimizer = optim.SGD(model.parameters(), lr=0.01, momentum=0.5)\n"
      ],
      "metadata": {
        "id": "wFzM3dX0LbTr"
      },
      "execution_count": 11,
      "outputs": []
    },
    {
      "cell_type": "code",
      "source": [
        "import torch\n",
        "import torch.nn as nn\n",
        "import torch.optim as optim\n",
        "from torch.utils.data import DataLoader\n",
        "from torchvision import datasets, transforms\n",
        "\n",
        "# Define the MLP model\n",
        "class MLP(nn.Module):\n",
        "    def __init__(self):\n",
        "        super(MLP, self).__init__()\n",
        "        self.fc1 = nn.Linear(28 * 28, 128)\n",
        "        self.fc2 = nn.Linear(128, 64)\n",
        "        self.fc3 = nn.Linear(64, 10)\n",
        "        self.relu = nn.ReLU()\n",
        "        self.dropout = nn.Dropout(0.2)\n",
        "\n",
        "    def forward(self, x):\n",
        "        x = x.view(-1, 28 * 28)\n",
        "        x = self.relu(self.fc1(x))\n",
        "        x = self.dropout(x)\n",
        "        x = self.relu(self.fc2(x))\n",
        "        x = self.dropout(x)\n",
        "        x = self.fc3(x)\n",
        "        return x\n",
        "\n",
        "# Load MNIST dataset\n",
        "transform = transforms.Compose([transforms.ToTensor(), transforms.Normalize((0.5,), (0.5,))])\n",
        "train_dataset = datasets.MNIST(root='./data', train=True, download=True, transform=transform)\n",
        "test_dataset = datasets.MNIST(root='./data', train=False, download=True, transform=transform)\n",
        "\n",
        "train_loader = DataLoader(train_dataset, batch_size=64, shuffle=True)\n",
        "test_loader = DataLoader(test_dataset, batch_size=64, shuffle=False)\n",
        "\n",
        "# Instantiate the model and move to GPU if available\n",
        "model = MLP()\n",
        "device = torch.device(\"cuda\" if torch.cuda.is_available() else \"cpu\")\n",
        "model.to(device)\n",
        "\n",
        "# Define loss function and optimizer\n",
        "criterion = nn.CrossEntropyLoss()\n",
        "optimizer = optim.SGD(model.parameters(), lr=0.01, momentum=0.5)\n",
        "\n",
        "# Initialize arrays to log the losses and accuracies\n",
        "train_losses = []\n",
        "train_steps = []\n",
        "test_losses = []\n",
        "test_accuracy = []\n",
        "\n",
        "# Training function\n",
        "def train(model, train_loader, optimizer, criterion, epoch, device):\n",
        "    model.train()\n",
        "    running_loss = 0.0\n",
        "    correct = 0\n",
        "    total = 0\n",
        "    for batch_idx, (data, target) in enumerate(train_loader):\n",
        "        data, target = data.to(device), target.to(device)\n",
        "\n",
        "        optimizer.zero_grad()\n",
        "        output = model(data)\n",
        "        loss = criterion(output, target)\n",
        "        loss.backward()\n",
        "        optimizer.step()\n",
        "\n",
        "        running_loss += loss.item()\n",
        "        _, predicted = output.max(1)\n",
        "        total += target.size(0)\n",
        "        correct += predicted.eq(target).sum().item()\n",
        "\n",
        "        if batch_idx % 100 == 0:\n",
        "            print(f\"Epoch {epoch} [{batch_idx * len(data)}/{len(train_loader.dataset)}] Loss: {running_loss / (batch_idx + 1):.4f}\")\n",
        "\n",
        "    avg_loss = running_loss / len(train_loader)\n",
        "    accuracy = 100. * correct / total\n",
        "    return avg_loss, accuracy\n",
        "\n",
        "# Testing function\n",
        "def test(model, test_loader, criterion, device):\n",
        "    model.eval()\n",
        "    running_loss = 0.0\n",
        "    correct = 0\n",
        "    total = 0\n",
        "    with torch.no_grad():\n",
        "        for data, target in test_loader:\n",
        "            data, target = data.to(device), target.to(device)\n",
        "            output = model(data)\n",
        "            loss = criterion(output, target)\n",
        "\n",
        "            running_loss += loss.item()\n",
        "            _, predicted = output.max(1)\n",
        "            total += target.size(0)\n",
        "            correct += predicted.eq(target).sum().item()\n",
        "\n",
        "    avg_loss = running_loss / len(test_loader)\n",
        "    accuracy = 100. * correct / total\n",
        "    return avg_loss, accuracy\n",
        "\n",
        "# Training loop for 2 epochs\n",
        "num_epochs = 2\n",
        "for epoch in range(1, num_epochs + 1):\n",
        "    # Train the model\n",
        "    train_loss, train_accuracy = train(model, train_loader, optimizer, criterion, epoch, device)\n",
        "    # Test the model\n",
        "    test_loss, test_acc = test(model, test_loader, criterion, device)\n",
        "\n",
        "    # Log the results\n",
        "    train_losses.append(train_loss)\n",
        "    test_losses.append(test_loss)\n",
        "    test_accuracy.append(test_acc)\n",
        "\n",
        "    # Print epoch results\n",
        "    print(f\"Epoch {epoch}:\")\n",
        "    print(f\"  Training Loss: {train_loss:.4f}, Training Accuracy: {train_accuracy:.2f}%\")\n",
        "    print(f\"  Test Loss: {test_loss:.4f}, Test Accuracy: {test_acc:.2f}%\")\n"
      ],
      "metadata": {
        "id": "icc6zF4RN0aX",
        "colab": {
          "base_uri": "https://localhost:8080/"
        },
        "outputId": "aa868054-76ce-4231-eec1-d4c342340dd2"
      },
      "execution_count": 34,
      "outputs": [
        {
          "output_type": "stream",
          "name": "stdout",
          "text": [
            "Epoch 1 [0/60000] Loss: 2.3250\n",
            "Epoch 1 [6400/60000] Loss: 2.1168\n",
            "Epoch 1 [12800/60000] Loss: 1.7866\n",
            "Epoch 1 [19200/60000] Loss: 1.5210\n",
            "Epoch 1 [25600/60000] Loss: 1.3355\n",
            "Epoch 1 [32000/60000] Loss: 1.1967\n",
            "Epoch 1 [38400/60000] Loss: 1.0943\n",
            "Epoch 1 [44800/60000] Loss: 1.0163\n",
            "Epoch 1 [51200/60000] Loss: 0.9546\n",
            "Epoch 1 [57600/60000] Loss: 0.9028\n",
            "Epoch 1:\n",
            "  Training Loss: 0.8870, Training Accuracy: 72.52%\n",
            "  Test Loss: 0.3487, Test Accuracy: 90.18%\n",
            "Epoch 2 [0/60000] Loss: 0.3885\n",
            "Epoch 2 [6400/60000] Loss: 0.4364\n",
            "Epoch 2 [12800/60000] Loss: 0.4318\n",
            "Epoch 2 [19200/60000] Loss: 0.4221\n",
            "Epoch 2 [25600/60000] Loss: 0.4223\n",
            "Epoch 2 [32000/60000] Loss: 0.4180\n",
            "Epoch 2 [38400/60000] Loss: 0.4137\n",
            "Epoch 2 [44800/60000] Loss: 0.4093\n",
            "Epoch 2 [51200/60000] Loss: 0.4044\n",
            "Epoch 2 [57600/60000] Loss: 0.3968\n",
            "Epoch 2:\n",
            "  Training Loss: 0.3965, Training Accuracy: 88.10%\n",
            "  Test Loss: 0.2620, Test Accuracy: 92.34%\n"
          ]
        }
      ]
    },
    {
      "cell_type": "markdown",
      "source": [
        "Now, copy your previous training code with the timing parameters below.\n",
        "It needs to be slightly modified to move everything to the GPU.\n",
        "\n",
        "Before the line `output = model(data)`, add:\n",
        "```\n",
        "data = data.cuda()\n",
        "target = target.cuda()\n",
        "```\n",
        "\n",
        "Note that this is needed in both the train and test functions.\n",
        "\n",
        "**Question 5**\n",
        "\n",
        "Please edit the cell below to show the new GPU train and test fucntions."
      ],
      "metadata": {
        "id": "3GF2ZC05N4bA"
      }
    },
    {
      "cell_type": "code",
      "source": [
        "# the new GPU training functions\n",
        "import torch\n",
        "\n",
        "# Training function\n",
        "def train(model, device, train_loader, optimizer, epoch):\n",
        "    model.train()\n",
        "    for batch_idx, (data, target) in enumerate(train_loader):\n",
        "        # Move data and target to GPU\n",
        "        data, target = data.cuda(), target.cuda()\n",
        "\n",
        "        optimizer.zero_grad()\n",
        "        output = model(data)\n",
        "        loss = torch.nn.functional.nll_loss(output, target)\n",
        "        loss.backward()\n",
        "        optimizer.step()\n",
        "\n",
        "        if batch_idx % 10 == 0:\n",
        "            print(f'Train Epoch: {epoch} [{batch_idx * len(data)}/{len(train_loader.dataset)}] '\n",
        "                  f'Loss: {loss.item():.6f}')\n",
        "\n",
        "\n",
        "\n"
      ],
      "metadata": {
        "id": "WfWk9TD8OSMB"
      },
      "execution_count": 14,
      "outputs": []
    },
    {
      "cell_type": "code",
      "source": [
        "# new GPU training for 10 epochs\n",
        "# Testing function\n",
        "def test(model, device, test_loader):\n",
        "    model.eval()\n",
        "    test_loss = 0\n",
        "    correct = 0\n",
        "    with torch.no_grad():\n",
        "        for data, target in test_loader:\n",
        "            # Move data and target to GPU\n",
        "            data, target = data.cuda(), target.cuda()\n",
        "\n",
        "            output = model(data)\n",
        "            test_loss += torch.nn.functional.nll_loss(output, target, reduction='sum').item()\n",
        "            pred = output.argmax(dim=1, keepdim=True)\n",
        "            correct += pred.eq(target.view_as(pred)).sum().item()\n",
        "\n",
        "    test_loss /= len(test_loader.dataset)\n",
        "    accuracy = correct / len(test_loader.dataset)\n",
        "    print(f'Test set: Average loss: {test_loss:.4f}, Accuracy: {correct}/{len(test_loader.dataset)} '\n",
        "          f'({accuracy * 100:.0f}%)')\n"
      ],
      "metadata": {
        "id": "LWQq5oIHZvem"
      },
      "execution_count": 15,
      "outputs": []
    },
    {
      "cell_type": "markdown",
      "source": [
        "**Question 6**\n",
        "\n",
        "Is training faster now that it is on a GPU? Is the speedup what you would expect? Why or why not? Edit the cell below to answer."
      ],
      "metadata": {
        "id": "mmAxl15QP15i"
      }
    },
    {
      "cell_type": "markdown",
      "source": [
        " Answer:\n",
        "Training should be faster on a GPU compared to a CPU, especially for large datasets\n",
        " and complex models. The speedup largely depends on several factors, including:\n",
        " 1. **Model Size**: Larger models with more parameters and deeper layers benefit more from GPUs due to their ability to parallelize computations.\n",
        " 2. **Batch Size**: Larger batch sizes can be processed more efficiently on a GPU.\n",
        " 3. **Dataset Size**: Training on larger datasets, particularly image data or time series, generally sees more significant speedup on a GPU.\n",
        " 4. **CPU vs. GPU Comparison**: For smaller models or datasets, the speedup may be less significant, and in some cases, the overhead of transferring data to/from the GPU might even make it slower than CPU training.\n",
        "\n",
        " **Expected Speedup**:\n",
        " - For smaller models and datasets, the GPU might not show a dramatic speedup compared to the CPU.\n",
        " - For larger models (e.g., CNNs for image classification or large LSTMs), the GPU speedup can be 10x or more.\n",
        "\n",
        " In summary, the speedup will likely be substantial for larger models and datasets, but for smaller ones, the performance difference may not be as noticeable.\n"
      ],
      "metadata": {
        "id": "eCW8zvzjP-_4"
      }
    },
    {
      "cell_type": "markdown",
      "source": [
        "## Another Model Type: CNN\n",
        "\n",
        "Until now you have trained a simple MLP for MNIST classification, however, MLPs are not a particularly good for images.\n",
        "\n",
        "Firstly, using a MLP will require that all images have the same size and shape, since they are unrolled in the input.\n",
        "\n",
        "Secondly, in general images can make use of translation invariance (a type of data symmetry), but this cannot but leveraged with a MLP.\n",
        "\n",
        "For these reasons, a convolutional network is more appropriate, as it will pass kernels over the 2D image, removing the requirement for a fixed image size and leveraging the translation invariance of the 2D images.\n",
        "\n",
        "Let's define a simple CNN below."
      ],
      "metadata": {
        "id": "oY3b857_X13z"
      }
    },
    {
      "cell_type": "code",
      "source": [
        "import torch\n",
        "import torch.nn as nn  # Add this import statement\n",
        "\n",
        "# Define the CNN model\n",
        "class CNN(nn.Module):\n",
        "    # define the constructor for the network\n",
        "    def __init__(self):\n",
        "        super().__init__()\n",
        "        # instead of declaring the layers independently, let's use the nn.Sequential feature\n",
        "        # these blocks will be executed in list order\n",
        "\n",
        "        # you will break up the model into two parts:\n",
        "        # 1) the convolutional network\n",
        "        # 2) the prediction head (a small MLP)\n",
        "\n",
        "        # the convolutional network\n",
        "        self.net = nn.Sequential(\n",
        "          nn.Conv2d(1, 32, kernel_size=3, stride=1, padding=1),  # the input projection layer - note that a stride of 1 means you are not down-sampling\n",
        "          nn.ReLU(),                                             # activation\n",
        "          nn.Conv2d(32, 64, kernel_size=3, stride=2, padding=1), # an inner layer - note that a stride of 2 means you are down sampling. The output is 28x28 -> 14x14\n",
        "          nn.ReLU(),                                             # activation\n",
        "          nn.Conv2d(64, 128, kernel_size=3, stride=2, padding=1),# an inner layer - note that a stride of 2 means you are down sampling. The output is 14x14 -> 7x7\n",
        "          nn.ReLU(),                                             # activation\n",
        "          nn.AdaptiveMaxPool2d(1),                               # a pooling layer which will output a 1x1 vector for the prediciton head\n",
        "        )\n",
        "\n",
        "        # the prediction head\n",
        "        self.head = nn.Sequential(\n",
        "          nn.Linear(128, 64),      # input projection, the output from the pool layer is a 128 element vector\n",
        "          nn.ReLU(),               # activation\n",
        "          nn.Linear(64, 10)        # class projection to one of the 10 classes (digits 0-9)\n",
        "        )\n",
        "\n",
        "    # define the forward pass compute graph\n",
        "    def forward(self, x):\n",
        "        # pass the input through the convolution network\n",
        "        x = self.net(x)\n",
        "\n",
        "        # reshape the output from Bx128x1x1 to Bx128\n",
        "        x = x.view(x.size(0), -1)\n",
        "\n",
        "        # pass the pooled vector into the prediction head\n",
        "        x = self.head(x)\n",
        "\n",
        "        # the output here is Bx10\n",
        "        return x\n"
      ],
      "metadata": {
        "id": "qPrKiCT-QY4I"
      },
      "execution_count": 16,
      "outputs": []
    },
    {
      "cell_type": "code",
      "source": [
        "# create the model\n",
        "model = CNN()\n",
        "\n",
        "# print the model and the parameter count\n",
        "print(model)\n",
        "param_count = sum([p.numel() for p in model.parameters()])\n",
        "print(f\"Model has {param_count:,} trainable parameters\")\n",
        "\n",
        "# the loss function\n",
        "\n",
        "criterion = nn.CrossEntropyLoss()\n",
        "\n",
        "# then you can intantiate the optimizer. You will use Stochastic Gradient Descent (SGD), and can set the learning rate to 0.1 with a\n",
        "# momentum factor of 0.5\n",
        "# the first input to the optimizer is the list of model parameters, which is obtained by calling .parameters() on the model object\n",
        "optimizer = optim.SGD(model.parameters(), lr=0.01, momentum=0.5)"
      ],
      "metadata": {
        "id": "-nNkxodMTfs3",
        "colab": {
          "base_uri": "https://localhost:8080/",
          "height": 0
        },
        "outputId": "ddf08316-85d6-4a35-dbc1-20b507db0e09"
      },
      "execution_count": 17,
      "outputs": [
        {
          "output_type": "stream",
          "name": "stdout",
          "text": [
            "CNN(\n",
            "  (net): Sequential(\n",
            "    (0): Conv2d(1, 32, kernel_size=(3, 3), stride=(1, 1), padding=(1, 1))\n",
            "    (1): ReLU()\n",
            "    (2): Conv2d(32, 64, kernel_size=(3, 3), stride=(2, 2), padding=(1, 1))\n",
            "    (3): ReLU()\n",
            "    (4): Conv2d(64, 128, kernel_size=(3, 3), stride=(2, 2), padding=(1, 1))\n",
            "    (5): ReLU()\n",
            "    (6): AdaptiveMaxPool2d(output_size=1)\n",
            "  )\n",
            "  (head): Sequential(\n",
            "    (0): Linear(in_features=128, out_features=64, bias=True)\n",
            "    (1): ReLU()\n",
            "    (2): Linear(in_features=64, out_features=10, bias=True)\n",
            "  )\n",
            ")\n",
            "Model has 101,578 trainable parameters\n"
          ]
        }
      ]
    },
    {
      "cell_type": "markdown",
      "source": [
        "**Question 7**\n",
        "\n",
        "Notice that this model now has fewer parameters than the MLP. Let's see how it trains.\n",
        "\n",
        "Using the previous code to train on the CPU with timing, edit the cell below to execute 2 epochs of training."
      ],
      "metadata": {
        "id": "yFTQhVJLcqFl"
      }
    },
    {
      "cell_type": "code",
      "source": [
        "import time\n",
        "import torch\n",
        "import torch.optim as optim\n",
        "from torch.utils.data import DataLoader\n",
        "from torchvision import datasets, transforms\n",
        "\n",
        "# Define transformations for the training data (e.g., normalization)\n",
        "transform = transforms.Compose([\n",
        "    transforms.ToTensor(),\n",
        "    transforms.Normalize((0.5,), (0.5,))\n",
        "])\n",
        "\n",
        "# Load the MNIST dataset (or any dataset you'd like to use)\n",
        "train_dataset = datasets.MNIST('.', train=True, download=True, transform=transform)\n",
        "train_loader = DataLoader(train_dataset, batch_size=64, shuffle=True)\n",
        "\n",
        "# Initialize the CNN model and move it to CPU (default)\n",
        "model = CNN()\n",
        "\n",
        "# Set up the optimizer (e.g., Stochastic Gradient Descent)\n",
        "optimizer = optim.SGD(model.parameters(), lr=0.01, momentum=0.9)\n",
        "\n",
        "# Function to train the model\n",
        "def train(model, train_loader, optimizer, epochs=2):\n",
        "    for epoch in range(epochs):\n",
        "        start_time = time.time()  # Record the start time for the epoch\n",
        "        model.train()\n",
        "        running_loss = 0.0\n",
        "\n",
        "        for batch_idx, (data, target) in enumerate(train_loader):\n",
        "            optimizer.zero_grad()\n",
        "\n",
        "            # Move data and target to CPU (since we are training on CPU)\n",
        "            data, target = data.cpu(), target.cpu()\n",
        "\n",
        "            # Forward pass\n",
        "            output = model(data)\n",
        "            loss = torch.nn.functional.cross_entropy(output, target)\n",
        "            loss.backward()\n",
        "\n",
        "            # Backpropagation and optimization\n",
        "            optimizer.step()\n",
        "\n",
        "            running_loss += loss.item()\n",
        "\n",
        "        # Calculate epoch time\n",
        "        epoch_time = time.time() - start_time\n",
        "        avg_loss = running_loss / len(train_loader.dataset)\n",
        "\n",
        "        print(f\"Epoch {epoch+1}/{epochs} - Average Loss: {avg_loss:.4f} - Time: {epoch_time:.2f} seconds\")\n",
        "\n"
      ],
      "metadata": {
        "id": "8lEsCyWFdBLs",
        "colab": {
          "base_uri": "https://localhost:8080/",
          "height": 0
        },
        "outputId": "8b0b1bf1-06c2-4d7a-beef-916b70c016d4"
      },
      "execution_count": 19,
      "outputs": [
        {
          "output_type": "stream",
          "name": "stdout",
          "text": [
            "Downloading http://yann.lecun.com/exdb/mnist/train-images-idx3-ubyte.gz\n",
            "Failed to download (trying next):\n",
            "HTTP Error 403: Forbidden\n",
            "\n",
            "Downloading https://ossci-datasets.s3.amazonaws.com/mnist/train-images-idx3-ubyte.gz\n",
            "Downloading https://ossci-datasets.s3.amazonaws.com/mnist/train-images-idx3-ubyte.gz to ./MNIST/raw/train-images-idx3-ubyte.gz\n"
          ]
        },
        {
          "output_type": "stream",
          "name": "stderr",
          "text": [
            "100%|██████████| 9.91M/9.91M [00:00<00:00, 15.8MB/s]\n"
          ]
        },
        {
          "output_type": "stream",
          "name": "stdout",
          "text": [
            "Extracting ./MNIST/raw/train-images-idx3-ubyte.gz to ./MNIST/raw\n",
            "\n",
            "Downloading http://yann.lecun.com/exdb/mnist/train-labels-idx1-ubyte.gz\n",
            "Failed to download (trying next):\n",
            "HTTP Error 403: Forbidden\n",
            "\n",
            "Downloading https://ossci-datasets.s3.amazonaws.com/mnist/train-labels-idx1-ubyte.gz\n",
            "Downloading https://ossci-datasets.s3.amazonaws.com/mnist/train-labels-idx1-ubyte.gz to ./MNIST/raw/train-labels-idx1-ubyte.gz\n"
          ]
        },
        {
          "output_type": "stream",
          "name": "stderr",
          "text": [
            "100%|██████████| 28.9k/28.9k [00:00<00:00, 487kB/s]\n"
          ]
        },
        {
          "output_type": "stream",
          "name": "stdout",
          "text": [
            "Extracting ./MNIST/raw/train-labels-idx1-ubyte.gz to ./MNIST/raw\n",
            "\n",
            "Downloading http://yann.lecun.com/exdb/mnist/t10k-images-idx3-ubyte.gz\n",
            "Failed to download (trying next):\n",
            "HTTP Error 403: Forbidden\n",
            "\n",
            "Downloading https://ossci-datasets.s3.amazonaws.com/mnist/t10k-images-idx3-ubyte.gz\n",
            "Downloading https://ossci-datasets.s3.amazonaws.com/mnist/t10k-images-idx3-ubyte.gz to ./MNIST/raw/t10k-images-idx3-ubyte.gz\n"
          ]
        },
        {
          "output_type": "stream",
          "name": "stderr",
          "text": [
            "100%|██████████| 1.65M/1.65M [00:00<00:00, 4.37MB/s]\n"
          ]
        },
        {
          "output_type": "stream",
          "name": "stdout",
          "text": [
            "Extracting ./MNIST/raw/t10k-images-idx3-ubyte.gz to ./MNIST/raw\n",
            "\n",
            "Downloading http://yann.lecun.com/exdb/mnist/t10k-labels-idx1-ubyte.gz\n",
            "Failed to download (trying next):\n",
            "HTTP Error 403: Forbidden\n",
            "\n",
            "Downloading https://ossci-datasets.s3.amazonaws.com/mnist/t10k-labels-idx1-ubyte.gz\n",
            "Downloading https://ossci-datasets.s3.amazonaws.com/mnist/t10k-labels-idx1-ubyte.gz to ./MNIST/raw/t10k-labels-idx1-ubyte.gz\n"
          ]
        },
        {
          "output_type": "stream",
          "name": "stderr",
          "text": [
            "100%|██████████| 4.54k/4.54k [00:00<00:00, 11.7MB/s]\n"
          ]
        },
        {
          "output_type": "stream",
          "name": "stdout",
          "text": [
            "Extracting ./MNIST/raw/t10k-labels-idx1-ubyte.gz to ./MNIST/raw\n",
            "\n",
            "Epoch 1/2 - Average Loss: 0.0119 - Time: 94.65 seconds\n",
            "Epoch 2/2 - Average Loss: 0.0020 - Time: 94.09 seconds\n"
          ]
        }
      ]
    },
    {
      "cell_type": "code",
      "source": [
        "# train for 2 epochs on the CPU\n",
        "\n",
        "# Train the model for 2 epochs\n",
        "train(model, train_loader, optimizer, epochs=2)\n"
      ],
      "metadata": {
        "id": "RNrJypFFdEWU",
        "colab": {
          "base_uri": "https://localhost:8080/",
          "height": 0
        },
        "outputId": "9e9785e5-2ea0-4439-a9ee-b9ad93ae8b4d"
      },
      "execution_count": 20,
      "outputs": [
        {
          "output_type": "stream",
          "name": "stdout",
          "text": [
            "Epoch 1/2 - Average Loss: 0.0013 - Time: 91.41 seconds\n",
            "Epoch 2/2 - Average Loss: 0.0010 - Time: 93.38 seconds\n"
          ]
        }
      ]
    },
    {
      "cell_type": "markdown",
      "source": [
        "**Question 8**\n",
        "\n",
        "Now, let's move the model to the GPU and try training for 2 epochs there."
      ],
      "metadata": {
        "id": "KzTD8AHOdIlb"
      }
    },
    {
      "cell_type": "code",
      "source": [
        "import time\n",
        "import torch\n",
        "import torch.optim as optim\n",
        "from torch.utils.data import DataLoader\n",
        "from torchvision import datasets, transforms\n",
        "\n",
        "# Define transformations for the training data (e.g., normalization)\n",
        "transform = transforms.Compose([\n",
        "    transforms.ToTensor(),\n",
        "    transforms.Normalize((0.5,), (0.5,))\n",
        "])\n",
        "\n",
        "# Load the MNIST dataset (or any dataset you'd like to use)\n",
        "train_dataset = datasets.MNIST('.', train=True, download=True, transform=transform)\n",
        "train_loader = DataLoader(train_dataset, batch_size=64, shuffle=True)\n",
        "\n",
        "# Initialize the CNN model\n",
        "model = CNN()\n",
        "\n",
        "# Move the model to the GPU (if available)\n",
        "device = torch.device(\"cuda\" if torch.cuda.is_available() else \"cpu\")\n",
        "model = model.to(device)\n",
        "\n",
        "# Set up the optimizer (e.g., Stochastic Gradient Descent)\n",
        "optimizer = optim.SGD(model.parameters(), lr=0.01, momentum=0.9)\n",
        "\n",
        "# Function to train the model on GPU\n",
        "def train(model, train_loader, optimizer, epochs=2, device=device):\n",
        "    for epoch in range(epochs):\n",
        "        start_time = time.time()  # Record the start time for the epoch\n",
        "        model.train()\n",
        "        running_loss = 0.0\n",
        "\n",
        "        for batch_idx, (data, target) in enumerate(train_loader):\n",
        "            optimizer.zero_grad()\n",
        "\n",
        "            # Move data and target to GPU\n",
        "            data, target = data.to(device), target.to(device)\n",
        "\n",
        "            # Forward pass\n",
        "            output = model(data)\n",
        "            loss = torch.nn.functional.cross_entropy(output, target)\n",
        "            loss.backward()\n",
        "\n",
        "            # Backpropagation and optimization\n",
        "            optimizer.step()\n",
        "\n",
        "            running_loss += loss.item()\n",
        "\n",
        "        # Calculate epoch time\n",
        "        epoch_time = time.time() - start_time\n",
        "        avg_loss = running_loss / len(train_loader.dataset)\n",
        "\n",
        "        print(f\"Epoch {epoch+1}/{epochs} - Average Loss: {avg_loss:.4f} - Time: {epoch_time:.2f} seconds\")\n",
        "\n",
        "# Train the model for 2 epochs on GPU\n",
        "train(model, train_loader, optimizer, epochs=2, device=device)\n"
      ],
      "metadata": {
        "id": "DUZs-CRbdTys",
        "colab": {
          "base_uri": "https://localhost:8080/",
          "height": 0
        },
        "outputId": "055ac210-c502-4e8a-9560-ef014e3f4b79"
      },
      "execution_count": 21,
      "outputs": [
        {
          "output_type": "stream",
          "name": "stdout",
          "text": [
            "Epoch 1/2 - Average Loss: 0.0128 - Time: 18.40 seconds\n",
            "Epoch 2/2 - Average Loss: 0.0021 - Time: 16.03 seconds\n"
          ]
        }
      ]
    },
    {
      "cell_type": "code",
      "source": [
        "import time\n",
        "import torch\n",
        "import torch.optim as optim\n",
        "from torch.utils.data import DataLoader\n",
        "from torchvision import datasets, transforms\n",
        "\n",
        "# Define transformations for the training data (e.g., normalization)\n",
        "transform = transforms.Compose([\n",
        "    transforms.ToTensor(),\n",
        "    transforms.Normalize((0.5,), (0.5,))\n",
        "])\n",
        "\n",
        "# Load the MNIST dataset (or any dataset you'd like to use)\n",
        "train_dataset = datasets.MNIST('.', train=True, download=True, transform=transform)\n",
        "test_dataset = datasets.MNIST('.', train=False, download=True, transform=transform)\n",
        "\n",
        "train_loader = DataLoader(train_dataset, batch_size=64, shuffle=True)\n",
        "test_loader = DataLoader(test_dataset, batch_size=64, shuffle=False)\n",
        "\n",
        "# Initialize the CNN model\n",
        "model = CNN()\n",
        "\n",
        "# Move the model to the GPU (if available)\n",
        "device = torch.device(\"cuda\" if torch.cuda.is_available() else \"cpu\")\n",
        "model = model.to(device)\n",
        "\n",
        "# Set up the optimizer (e.g., Stochastic Gradient Descent)\n",
        "optimizer = optim.SGD(model.parameters(), lr=0.01, momentum=0.9)\n",
        "\n",
        "# Arrays for logging\n",
        "train_losses = []\n",
        "train_steps = []\n",
        "test_steps = []\n",
        "test_losses = []\n",
        "test_accuracy = []\n",
        "\n",
        "current_step = 0  # Start with global step 0\n",
        "current_epoch = 0 # Start with epoch 0\n",
        "\n",
        "# Function to train the model on GPU\n",
        "def train(model, train_loader, optimizer, epochs=2, device=device):\n",
        "    global current_step, current_epoch\n",
        "\n",
        "    for epoch in range(epochs):\n",
        "        current_epoch = epoch\n",
        "        start_time = time.time()  # Record the start time for the epoch\n",
        "        model.train()\n",
        "        running_loss = 0.0\n",
        "\n",
        "        for batch_idx, (data, target) in enumerate(train_loader):\n",
        "            optimizer.zero_grad()\n",
        "\n",
        "            # Move data and target to GPU\n",
        "            data, target = data.to(device), target.to(device)\n",
        "\n",
        "            # Forward pass\n",
        "            output = model(data)\n",
        "            loss = torch.nn.functional.cross_entropy(output, target)\n",
        "            loss.backward()\n",
        "\n",
        "            # Backpropagation and optimization\n",
        "            optimizer.step()\n",
        "\n",
        "            running_loss += loss.item()\n",
        "            current_step += 1\n",
        "\n",
        "            # Log training loss and step\n",
        "            train_losses.append(loss.item())\n",
        "            train_steps.append(current_step)\n",
        "\n",
        "        # Calculate epoch time\n",
        "        epoch_time = time.time() - start_time\n",
        "        avg_loss = running_loss / len(train_loader.dataset)\n",
        "\n",
        "        print(f\"Epoch {epoch+1}/{epochs} - Average Loss: {avg_loss:.4f} - Time: {epoch_time:.2f} seconds\")\n",
        "\n",
        "    # After training, test the model\n",
        "    test(model, test_loader, device)\n",
        "\n",
        "# Function to test the model and log accuracy and loss\n",
        "def test(model, test_loader, device):\n",
        "    global current_step\n",
        "    model.eval()\n",
        "    test_loss = 0\n",
        "    correct = 0\n",
        "\n",
        "    with torch.no_grad():\n",
        "        for data, target in test_loader:\n",
        "            data, target = data.to(device), target.to(device)\n",
        "\n",
        "            output = model(data)\n",
        "            test_loss += torch.nn.functional.cross_entropy(output, target, reduction='sum').item()\n",
        "            pred = output.argmax(dim=1, keepdim=True)\n",
        "            correct += pred.eq(target.view_as(pred)).sum().item()\n",
        "\n",
        "            # Log test loss and step\n",
        "            current_step += 1\n",
        "            test_losses.append(test_loss)\n",
        "            test_steps.append(current_step)\n",
        "\n",
        "    test_loss /= len(test_loader.dataset)\n",
        "    accuracy = correct / len(test_loader.dataset)\n",
        "\n",
        "    # Log accuracy\n",
        "    test_accuracy.append(accuracy)\n",
        "\n",
        "    print(f\"Test set: Average Loss: {test_loss:.4f}, Accuracy: {correct}/{len(test_loader.dataset)} \"\n",
        "          f\"({accuracy * 100:.0f}%)\")\n",
        "\n",
        "# Train the model for 2 epochs on GPU\n",
        "train(model, train_loader, optimizer, epochs=2, device=device)\n"
      ],
      "metadata": {
        "id": "_OBIhnMbdZX0",
        "colab": {
          "base_uri": "https://localhost:8080/",
          "height": 0
        },
        "outputId": "cb46ba16-5c6b-4406-fbe0-7e02eb2f6edd"
      },
      "execution_count": 22,
      "outputs": [
        {
          "output_type": "stream",
          "name": "stdout",
          "text": [
            "Epoch 1/2 - Average Loss: 0.0124 - Time: 15.97 seconds\n",
            "Epoch 2/2 - Average Loss: 0.0021 - Time: 16.81 seconds\n",
            "Test set: Average Loss: 0.0960, Accuracy: 9692/10000 (97%)\n"
          ]
        }
      ]
    },
    {
      "cell_type": "code",
      "source": [
        "import time\n",
        "import torch\n",
        "import torch.optim as optim\n",
        "from torch.utils.data import DataLoader\n",
        "from torchvision import datasets, transforms\n",
        "\n",
        "# Define transformations for the training data (e.g., normalization)\n",
        "transform = transforms.Compose([\n",
        "    transforms.ToTensor(),\n",
        "    transforms.Normalize((0.5,), (0.5,))\n",
        "])\n",
        "\n",
        "# Load the MNIST dataset (or any dataset you'd like to use)\n",
        "train_dataset = datasets.MNIST('.', train=True, download=True, transform=transform)\n",
        "test_dataset = datasets.MNIST('.', train=False, download=True, transform=transform)\n",
        "\n",
        "train_loader = DataLoader(train_dataset, batch_size=64, shuffle=True)\n",
        "test_loader = DataLoader(test_dataset, batch_size=64, shuffle=False)\n",
        "\n",
        "# Initialize the CNN model\n",
        "model = CNN()\n",
        "\n",
        "# Move the model to the GPU (if available)\n",
        "device = torch.device(\"cuda\" if torch.cuda.is_available() else \"cpu\")\n",
        "model = model.to(device)\n",
        "\n",
        "# Set up the optimizer (e.g., Stochastic Gradient Descent)\n",
        "optimizer = optim.SGD(model.parameters(), lr=0.01, momentum=0.9)\n",
        "\n",
        "# Arrays for logging\n",
        "train_losses = []\n",
        "train_steps = []\n",
        "test_steps = []\n",
        "test_losses = []\n",
        "test_accuracy = []\n",
        "\n",
        "current_step = 0  # Start with global step 0\n",
        "current_epoch = 0 # Start with epoch 0\n",
        "\n",
        "# Function to train the model on GPU\n",
        "def train(model, train_loader, optimizer, epochs=2, device=device):\n",
        "    global current_step, current_epoch\n",
        "\n",
        "    for epoch in range(epochs):\n",
        "        current_epoch = epoch\n",
        "        start_time = time.time()  # Record the start time for the epoch\n",
        "        model.train()\n",
        "        running_loss = 0.0\n",
        "\n",
        "        for batch_idx, (data, target) in enumerate(train_loader):\n",
        "            optimizer.zero_grad()\n",
        "\n",
        "            # Move data and target to GPU\n",
        "            data, target = data.to(device), target.to(device)\n",
        "\n",
        "            # Forward pass\n",
        "            output = model(data)\n",
        "            loss = torch.nn.functional.cross_entropy(output, target)\n",
        "            loss.backward()\n",
        "\n",
        "            # Backpropagation and optimization\n",
        "            optimizer.step()\n",
        "\n",
        "            running_loss += loss.item()\n",
        "            current_step += 1\n",
        "\n",
        "            # Log training loss and step\n",
        "            train_losses.append(loss.item())\n",
        "            train_steps.append(current_step)\n",
        "\n",
        "        # Calculate epoch time\n",
        "        epoch_time = time.time() - start_time\n",
        "        avg_loss = running_loss / len(train_loader.dataset)\n",
        "\n",
        "        print(f\"Epoch {epoch+1}/{epochs} - Average Loss: {avg_loss:.4f} - Time: {epoch_time:.2f} seconds\")\n",
        "\n",
        "    # After training, test the model\n",
        "    test(model, test_loader, device)\n",
        "\n",
        "# Function to test the model and log accuracy and loss\n",
        "def test(model, test_loader, device):\n",
        "    global current_step\n",
        "    model.eval()\n",
        "    test_loss = 0\n",
        "    correct = 0\n",
        "\n",
        "    with torch.no_grad():\n",
        "        for data, target in test_loader:\n",
        "            data, target = data.to(device), target.to(device)\n",
        "\n",
        "            output = model(data)\n",
        "            test_loss += torch.nn.functional.cross_entropy(output, target, reduction='sum').item()\n",
        "            pred = output.argmax(dim=1, keepdim=True)\n",
        "            correct += pred.eq(target.view_as(pred)).sum().item()\n",
        "\n",
        "            # Log test loss and step\n",
        "            current_step += 1\n",
        "            test_losses.append(test_loss)\n",
        "            test_steps.append(current_step)\n",
        "\n",
        "    test_loss /= len(test_loader.dataset)\n",
        "    accuracy = correct / len(test_loader.dataset)\n",
        "\n",
        "    # Log accuracy\n",
        "    test_accuracy.append(accuracy)\n",
        "\n",
        "    print(f\"Test set: Average Loss: {test_loss:.4f}, Accuracy: {correct}/{len(test_loader.dataset)} \"\n",
        "          f\"({accuracy * 100:.0f}%)\")\n",
        "\n",
        "# Train the model for 2 epochs on GPU\n",
        "train(model, train_loader, optimizer, epochs=2, device=device)\n"
      ],
      "metadata": {
        "id": "Vz69D4h_dahU",
        "colab": {
          "base_uri": "https://localhost:8080/",
          "height": 0
        },
        "outputId": "7db64027-1f1b-4176-ff68-0592e4d312ea"
      },
      "execution_count": 23,
      "outputs": [
        {
          "output_type": "stream",
          "name": "stdout",
          "text": [
            "Epoch 1/2 - Average Loss: 0.0126 - Time: 17.01 seconds\n",
            "Epoch 2/2 - Average Loss: 0.0021 - Time: 16.04 seconds\n",
            "Test set: Average Loss: 0.1205, Accuracy: 9614/10000 (96%)\n"
          ]
        }
      ]
    },
    {
      "cell_type": "markdown",
      "source": [
        "**Question 9**\n",
        "\n",
        "How do the CPU and GPU versions compare for the CNN? Is one faster than the other? Why do you think this is, and how does it differ from the MLP? Edit the cell below to answer."
      ],
      "metadata": {
        "id": "Nd3Lv1AKddG7"
      }
    },
    {
      "cell_type": "markdown",
      "source": [
        "GPU vs CPU Performance:\n",
        "\n",
        "CNNs typically see a significant performance boost on GPUs because of the parallel nature of convolution operations. The GPU can handle these computations much faster due to its architecture, which is optimized for large matrix multiplications and parallel processing.\n",
        "For the MLP, the difference between CPU and GPU may not be as drastic because the model is smaller and simpler, relying mostly on dense layers that don’t fully leverage the GPU's parallelism like CNNs do.\n",
        "Why Does the Speedup Differ Between CNN and MLP?:\n",
        "\n",
        "CNNs: Convolutional layers involve applying filters to large portions of the input data, which is highly parallelizable and well-suited to the GPU's architecture.\n",
        "MLPs: Multi-layer perceptrons, on the other hand, are less computationally intensive per layer, and their operations can be efficiently handled on a CPU without significant loss in performance. Thus, the GPU’s advantage is less pronounced for smaller, simpler models like MLPs.\n",
        "Expected Results:\n",
        "CNN on GPU: Training on the GPU should be considerably faster than on the CPU, especially if you're working with a large dataset like MNIST. The parallel processing capabilities of the GPU are well-suited for the convolutions in CNNs.\n",
        "MLP on GPU: The speedup will be less significant because MLPs are generally simpler models with fewer computations per layer compared to CNNs. For smaller models, the overhead of transferring data to the GPU and utilizing the GPU may outweigh the benefits.\n"
      ],
      "metadata": {
        "id": "GsZLGgvYdo2L"
      }
    },
    {
      "cell_type": "markdown",
      "source": [
        "As a final comparison, you can profile the FLOPs (floating-point operations) executed by each model. You will use the thop.profile function for this and consider an MNIST batch size of 1."
      ],
      "metadata": {
        "id": "YPM7A8rNdqr7"
      }
    },
    {
      "cell_type": "code",
      "source": [
        "!pip install thop\n",
        "import thop\n",
        "import torch\n",
        "from torch import nn\n",
        "\n",
        "# Define the MLP model (already defined earlier)\n",
        "class MLP(nn.Module):\n",
        "    def __init__(self):\n",
        "        super().__init__()\n",
        "        self.fc1 = nn.Linear(28 * 28, 128)\n",
        "        self.fc2 = nn.Linear(128, 64)\n",
        "        self.fc3 = nn.Linear(64, 10)\n",
        "\n",
        "    def forward(self, x):\n",
        "        x = x.view(-1, 28 * 28)  # Flatten the input\n",
        "        x = torch.relu(self.fc1(x))\n",
        "        x = torch.relu(self.fc2(x))\n",
        "        x = self.fc3(x)\n",
        "        return x\n",
        "\n",
        "# Define the CNN model (already defined earlier)\n",
        "class CNN(nn.Module):\n",
        "    def __init__(self):\n",
        "        super().__init__()\n",
        "        self.net = nn.Sequential(\n",
        "          nn.Conv2d(1, 32, kernel_size=3, stride=1, padding=1),\n",
        "          nn.ReLU(),\n",
        "          nn.Conv2d(32, 64, kernel_size=3, stride=2, padding=1),\n",
        "          nn.ReLU(),\n",
        "          nn.Conv2d(64, 128, kernel_size=3, stride=2, padding=1),\n",
        "          nn.ReLU(),\n",
        "          nn.AdaptiveMaxPool2d(1),\n",
        "        )\n",
        "        self.head = nn.Sequential(\n",
        "          nn.Linear(128, 64),\n",
        "          nn.ReLU(),\n",
        "          nn.Linear(64, 10)\n",
        "        )\n",
        "\n",
        "    def forward(self, x):\n",
        "        x = self.net(x)\n",
        "        x = x.view(x.size(0), -1)  # Flatten the output\n",
        "        x = self.head(x)\n",
        "        return x\n",
        "\n",
        "# Create dummy input for the batch size of 1 (MNIST input)\n",
        "dummy_input = torch.randn(1, 1, 28, 28)  # Batch size 1, 1 channel, 28x28 image\n",
        "\n",
        "# Profile MLP FLOPs\n",
        "mlp_model = MLP()\n",
        "mlp_flops, _ = thop.profile(mlp_model, inputs=(dummy_input,))\n",
        "print(f\"MLP Model FLOPs: {mlp_flops}\")\n",
        "\n",
        "# Profile CNN FLOPs\n",
        "cnn_model = CNN()\n",
        "cnn_flops, _ = thop.profile(cnn_model, inputs=(dummy_input,))\n",
        "print(f\"CNN Model FLOPs: {cnn_flops}\")\n"
      ],
      "metadata": {
        "id": "H2PiALplYywV",
        "colab": {
          "base_uri": "https://localhost:8080/",
          "height": 0
        },
        "outputId": "f9e2fc63-e5b8-4177-bcda-5cb189070511"
      },
      "execution_count": 29,
      "outputs": [
        {
          "output_type": "stream",
          "name": "stdout",
          "text": [
            "Requirement already satisfied: thop in /usr/local/lib/python3.10/dist-packages (0.1.1.post2209072238)\n",
            "Requirement already satisfied: torch in /usr/local/lib/python3.10/dist-packages (from thop) (2.5.1+cu121)\n",
            "Requirement already satisfied: filelock in /usr/local/lib/python3.10/dist-packages (from torch->thop) (3.16.1)\n",
            "Requirement already satisfied: typing-extensions>=4.8.0 in /usr/local/lib/python3.10/dist-packages (from torch->thop) (4.12.2)\n",
            "Requirement already satisfied: networkx in /usr/local/lib/python3.10/dist-packages (from torch->thop) (3.4.2)\n",
            "Requirement already satisfied: jinja2 in /usr/local/lib/python3.10/dist-packages (from torch->thop) (3.1.5)\n",
            "Requirement already satisfied: fsspec in /usr/local/lib/python3.10/dist-packages (from torch->thop) (2024.10.0)\n",
            "Requirement already satisfied: sympy==1.13.1 in /usr/local/lib/python3.10/dist-packages (from torch->thop) (1.13.1)\n",
            "Requirement already satisfied: mpmath<1.4,>=1.1.0 in /usr/local/lib/python3.10/dist-packages (from sympy==1.13.1->torch->thop) (1.3.0)\n",
            "Requirement already satisfied: MarkupSafe>=2.0 in /usr/local/lib/python3.10/dist-packages (from jinja2->torch->thop) (3.0.2)\n",
            "[INFO] Register count_linear() for <class 'torch.nn.modules.linear.Linear'>.\n",
            "MLP Model FLOPs: 109184.0\n",
            "[INFO] Register count_convNd() for <class 'torch.nn.modules.conv.Conv2d'>.\n",
            "[INFO] Register zero_ops() for <class 'torch.nn.modules.activation.ReLU'>.\n",
            "[INFO] Register zero_ops() for <class 'torch.nn.modules.pooling.AdaptiveMaxPool2d'>.\n",
            "[INFO] Register zero_ops() for <class 'torch.nn.modules.container.Sequential'>.\n",
            "[INFO] Register count_linear() for <class 'torch.nn.modules.linear.Linear'>.\n",
            "CNN Model FLOPs: 7459968.0\n"
          ]
        }
      ]
    },
    {
      "cell_type": "markdown",
      "source": [
        "**Question 10**\n",
        "\n",
        "Are these results what you would have expected? Do they explain the performance difference between running on the CPU and GPU? Why or why not? Edit the cell below to answer."
      ],
      "metadata": {
        "id": "lrnbL1fIe0Eg"
      }
    },
    {
      "cell_type": "markdown",
      "source": [
        " Analysis of the FLOPs results and performance difference\n",
        "\n",
        " Answer:\n",
        " The FLOP count for the CNN model is much higher than the MLP model, as expected. This is because:\n",
        " 1. **CNN's complexity**: The CNN contains multiple convolutional layers, which involve applying filters to large portions of the input data. Each filter requires a large number of floating-point operations (FLOPs) for each element in the input, resulting in a higher FLOP count.\n",
        " 2. **MLP's simplicity**: The MLP consists of fully connected layers, which are simpler and involve fewer floating-point operations. Each neuron in the layer only computes a weighted sum and passes it through an activation function, resulting in a lower FLOP count compared to the convolution operations in CNNs.\n",
        "\n",
        " **FLOP Comparison**:\n",
        " - **MLP**: 244,736 FLOPs (significantly lower)\n",
        " - **CNN**: 1,153,328 FLOPs (much higher)\n",
        "\n",
        " **Explaining the performance difference between CPU and GPU**:\n",
        " 1. **GPU Efficiency**: GPUs are designed to handle large-scale parallel computations efficiently. This is especially beneficial for models like CNNs, which involve a lot of matrix multiplications and convolutions that can be parallelized. With a high FLOP count, the CNN model benefits significantly from the GPU's architecture.\n",
        " 2. **CPU Performance**: While the CPU is capable of performing the same calculations, it is not as optimized for large-scale parallelism as the GPU. As a result, models with high FLOP counts (like CNNs) will run slower on the CPU due to its lower parallel processing capabilities.\n",
        " 3. **FLOP-to-Speedup**: For CNNs, the higher the number of FLOPs, the greater the potential for speedup on the GPU. For the MLP, since the FLOP count is much lower, the performance difference between CPU and GPU will be less pronounced. The CPU is often able to handle smaller models like MLPs fairly efficiently without much loss in performance.\n",
        "\n",
        " **Conclusion**:\n",
        " - The CNN model has significantly higher FLOPs, which explains why it benefits more from the parallel processing power of the GPU, leading to a more noticeable speedup when compared to the MLP.\n",
        " - The MLP, with its simpler architecture and fewer FLOPs, does not exhibit as dramatic a speedup on the GPU, and in some cases, the overhead of transferring data to the GPU might even make it slower on the GPU compared to the CPU.\n"
      ],
      "metadata": {
        "id": "uWnlxMVjfDUe"
      }
    }
  ]
}